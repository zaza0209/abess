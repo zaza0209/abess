{
  "cells": [
    {
      "cell_type": "code",
      "execution_count": null,
      "metadata": {
        "collapsed": false
      },
      "outputs": [],
      "source": [
        "%matplotlib inline"
      ]
    },
    {
      "cell_type": "markdown",
      "metadata": {},
      "source": [
        "\n# Data download example 2\n\nWe can use the same ``iris`` dataset in this example, without downloading it\ntwice as we know ``data_download`` will check if the data has already been\ndownloaded.\n"
      ]
    },
    {
      "cell_type": "code",
      "execution_count": null,
      "metadata": {
        "collapsed": false
      },
      "outputs": [],
      "source": [
        "# #%%\n# # pandas dataframes have a html representation, and this is captured:\n\n# import pandas as pd\n\n# df = pd.DataFrame({'col1': [1,2,3],\n#                    'col2': [4,5,6]})\n# df\n\n# s = pd.Series([1,2,3])\n\n# #%%\n# # test numpy\n\n# import numpy as np \n# x = np.empty([3,2], dtype = int) \n# print (x)\n\n# #%%\n# # test abess\nimport numpy as np \nfrom abess.datasets import make_glm_data\nnp.random.seed(0)\n\nn = 300\np = 1000\nk = 3\nreal_coef = np.zeros(p)\nreal_coef[[0, 1, 4]] = 3, 1.5, 2\ndata1 = make_glm_data(n = n, p = p, k = k, family = \"gaussian\", coef_ = real_coef)\n\n\nprint(data1.x.shape)\nprint(data1.y.shape)"
      ]
    },
    {
      "cell_type": "markdown",
      "metadata": {},
      "source": [
        "plot \n\n"
      ]
    },
    {
      "cell_type": "code",
      "execution_count": null,
      "metadata": {
        "collapsed": false
      },
      "outputs": [],
      "source": [
        "import matplotlib.pyplot as plt\n\n_ = plt.plot([1,2,3])"
      ]
    }
  ],
  "metadata": {
    "kernelspec": {
      "display_name": "Python 3",
      "language": "python",
      "name": "python3"
    },
    "language_info": {
      "codemirror_mode": {
        "name": "ipython",
        "version": 3
      },
      "file_extension": ".py",
      "mimetype": "text/x-python",
      "name": "python",
      "nbconvert_exporter": "python",
      "pygments_lexer": "ipython3",
      "version": "3.7.4"
    }
  },
  "nbformat": 4,
  "nbformat_minor": 0
}