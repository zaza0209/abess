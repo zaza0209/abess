{
 "cells": [
  {
   "cell_type": "markdown",
   "metadata": {},
   "source": [
    "# Robust Principal Component Analysis\n",
    "\n",
    "This notebook introduces what is adaptive best subset selection robust principal component analysis (RobustPCA) and then we show how it works using **abess** package on an artificial example.\n"
   ]
  },
  {
   "cell_type": "markdown",
   "metadata": {},
   "source": [
    "\n",
    "## PCA\n",
    "\n",
    "Principal component analysis (PCA) is an important method in the field of data science, which can reduce the dimension of data and simplify our model. It solves an optimization problem like:\n",
    "\n",
    "$$\n",
    "    \\max_{v} v^T\\Sigma v,\\qquad s.t.\\quad v^Tv=1.\n",
    "$$\n",
    "\n",
    "where $\\Sigma = X^TX/(n-1)$ and $X\\in \\mathbb{R}^{n\\times p}$ is the centered sample matrix with each row containing one observation of $p$ variables.\n"
   ]
  },
  {
   "cell_type": "markdown",
   "metadata": {},
   "source": [
    "\n",
    "## Robust-PCA (RPCA)\n",
    "\n",
    "However, the original PCA is sensitive to outliers, which may be unavoidable in real data:\n",
    "\n",
    "- Object has extreme performance due to fortuity, but he/she shows normal in repeated tests;\n",
    "- Wrong observation/recording/computing, e.g. missing or dead pixels, X-ray spikes.\n",
    "\n",
    "In this situation, PCA may spend too much attention on unnecessary variables. \n",
    "That's why Robust-PCA (RPCA) is presented, which can be used to recover the (low-rank) sample for subsequent processing.\n",
    "\n",
    "In mathematics, RPCA manages to divide the sample matrix $X$ into two parts: \n",
    "\n",
    "$$\n",
    "    X = S + L, \n",
    "$$\n",
    "\n",
    "where $S$ is the sparse \"outlier\" matrix and $L$ is the \"information\" matrix with a low rank. \n",
    "Generally, we also suppose $S$ is not low-rank and $L$ is not sparse, in order to get unique solution.\n",
    "\n",
    "![](./fig/rpca.png)\n",
    "\n",
    "In Lagrange format, \n",
    "\n",
    "$$\n",
    "    \\min _{S, L}\\|X-S-L\\|_{F} \\leq \\varepsilon, s . t . \\quad \\operatorname{rank}(L)=r,\\|S\\|_{0} \\leq s\n",
    "$$\n",
    "\n",
    "where $s$ is the sparsity of $S$.\n",
    "After RPCA, the information matrix $L$ can be used in further analysis.\n",
    "\n",
    "> Note that it does NOT deal with \"noise\", which may stay in $L$ and need further procession.  \n",
    "\n",
    "## Hard Impute\n",
    "\n",
    "To solve its sub-problem, RPCA under known outlier positions, we follow a process called \"Hard Impute\".\n",
    "The main idea is to estimate the outlier values by precise values with KPCA, where $K=r$.\n",
    "\n",
    "Here are the steps:\n",
    "\n",
    "1. Input $X, outliers, M, \\varepsilon$, where $outliers$ records the non-zero positions in $S$; \n",
    "\n",
    "2. Denote $X_{\\text{new}} \\leftarrow {\\bf 0}$ with the same shape of $X$;\n",
    "\n",
    "3. For $i = 1,2, \\dots, M$:\n",
    "\n",
    "   - $X_{\\text{old}} = \\begin{cases} X_{\\text{new}},&\\text{for } outliers\\\\X,&\\text{for others}\\end{cases}$;\n",
    "\n",
    "   - Form KPCA on $X_{\\text{old}}$ with $K=r$, and denote $v$ as the eigenvectors;\n",
    "\n",
    "   - $X_{\\text{new}} = X_{\\text{old}}\\cdot v\\cdot v^T$;\n",
    "\n",
    "   - If $\\|X_{\\text{new}} - X_{\\text{old}}\\| < \\varepsilon$, break;\n",
    "\n",
    "   End for;\n",
    "\n",
    "4. Return $X_{\\text{new}}$ as $L$;\n",
    "\n",
    "where $M$ is the maximum iteration times and $\\varepsilon$ is the convergence coefficient.\n",
    "\n",
    "The final $X_{\\text{new}}$ is supposed to be $L$ under given outlier positions.\n",
    "\n",
    "## RPCA Application\n",
    "\n",
    "Recently, RPCA is more widely used, for example,\n",
    "\n",
    "- Video Decomposition: \n",
    "in a surveillance video, the background may be unchanged for a long time while only a few pixels (e.g. people) update. \n",
    "In order to improve the efficiency of storage and analysis, we need to decomposite the video into background and \n",
    "foreground. Since the background is unchanged, it can be stored well in a low-rank matrix, while the foreground, which is \n",
    "usually quite small, can be indicated by a sparse matrix. That is what RPCA does.\n",
    "\n",
    "- Face recognition: \n",
    "due to complex lighting conditions, a small part of the facial features may be unrecognized (e.g. shadow).\n",
    "In the face recognition, we need to remove the effects of shadows and focus on the face data. Actually, since the face data is almost unchanged (for one person), and the shadows affect only a small part, it is also a suitable situation to use RPCA. Here are some examples: \n",
    "\n",
    "![](./fig/rpca_shadow.png)\n",
    "\n"
   ]
  },
  {
   "cell_type": "markdown",
   "metadata": {},
   "source": [
    "## Simulated Data Example\n",
    "\n",
    "### Fitting model\n",
    "\n",
    "Now we generate an example with $100$ rows and $100$ columns with $200$ outliers.\n",
    "We are looking forward to recovering it with a low rank $10$."
   ]
  },
  {
   "cell_type": "code",
   "execution_count": 1,
   "metadata": {},
   "outputs": [
    {
     "name": "stdout",
     "output_type": "stream",
     "text": [
      "X shape: (100, 100)\n"
     ]
    }
   ],
   "source": [
    "import numpy as np\n",
    "\n",
    "def gen_data(n, p, s, r, seed = 0):\n",
    "    np.random.seed(seed)\n",
    "    outlier = np.random.choice(n*p, s, replace=False)\n",
    "    outlier = np.vstack((outlier//p, outlier%p)).T\n",
    "    L = np.dot(np.random.rand(n, r), np.random.rand(r, n))\n",
    "    S = np.zeros((n, p))\n",
    "    S[outlier[:, 0], outlier[:, 1]] = float(np.random.randn(1)) * 10\n",
    "    X = L + S\n",
    "    return X, S\n",
    "\n",
    "n = 100     # rows\n",
    "p = 100     # columns\n",
    "s = 200     # outliers\n",
    "r = 10      # rank(L)\n",
    "\n",
    "X, S = gen_data(n, p, s, r)\n",
    "print(f'X shape: {X.shape}')\n",
    "# print(f'outlier: \\n{outlier}')"
   ]
  },
  {
   "cell_type": "markdown",
   "metadata": {},
   "source": [
    "In order to use our program, users should call `RobustPCA()` and give the outlier number to `support_size`. Note that it can be a specific integer or an integer interval. For the latter case, a support size will be chosen by information criterion (e.g. GIC) adaptively."
   ]
  },
  {
   "cell_type": "code",
   "execution_count": 2,
   "metadata": {},
   "outputs": [],
   "source": [
    "from abess.decomposition import RobustPCA\n",
    "model = RobustPCA(support_size = s) # support_size can be a interval like `range(s_min, s_max)`"
   ]
  },
  {
   "cell_type": "markdown",
   "metadata": {},
   "source": [
    "It is quite easy to fit this model, with `RobustPCA.fit` function. Given the original sample matrix $X$ and $rank(L)$ we want, the program will give a result quickly."
   ]
  },
  {
   "cell_type": "code",
   "execution_count": 3,
   "metadata": {},
   "outputs": [
    {
     "data": {
      "text/plain": [
       "abessRPCA(support_size=200)"
      ]
     },
     "execution_count": 3,
     "metadata": {},
     "output_type": "execute_result"
    }
   ],
   "source": [
    "model.fit(X, r = r) # r=rank(L)"
   ]
  },
  {
   "cell_type": "markdown",
   "metadata": {},
   "source": [
    "Now the estimated outlier matrix is stored in `model.coef_`."
   ]
  },
  {
   "cell_type": "code",
   "execution_count": 4,
   "metadata": {},
   "outputs": [
    {
     "name": "stdout",
     "output_type": "stream",
     "text": [
      "estimated sparsity: 200\n"
     ]
    }
   ],
   "source": [
    "S_est = model.coef_\n",
    "print(f'estimated sparsity: {np.count_nonzero(S_est)}')"
   ]
  },
  {
   "cell_type": "markdown",
   "metadata": {},
   "source": [
    "### More on the result\n",
    "\n",
    "To check the performance of the program, we use TPR, FPR as the criterion."
   ]
  },
  {
   "cell_type": "code",
   "execution_count": 5,
   "metadata": {},
   "outputs": [
    {
     "name": "stdout",
     "output_type": "stream",
     "text": [
      "[TPR  FPR] = [0.925      0.00153061]\n"
     ]
    }
   ],
   "source": [
    "def TPR(pred, real):\n",
    "    TP = (pred != 0) & (real != 0)\n",
    "    P = (real != 0)\n",
    "    return sum(sum(TP)) / sum(sum(P))\n",
    "\n",
    "def FPR(pred, real):\n",
    "    FP = (pred != 0) & (real == 0)\n",
    "    N = (real == 0)\n",
    "    return sum(sum(FP)) / sum(sum(N))\n",
    "\n",
    "def test_model(pred, real):\n",
    "    tpr = TPR(pred, real)\n",
    "    fpr = FPR(pred, real)\n",
    "    return np.array([tpr, fpr])\n",
    "\n",
    "print(f'[TPR  FPR] = {test_model(S_est, S)}')"
   ]
  },
  {
   "cell_type": "markdown",
   "metadata": {},
   "source": [
    "We can also change different random seed to test for more situation:"
   ]
  },
  {
   "cell_type": "code",
   "execution_count": 6,
   "metadata": {},
   "outputs": [
    {
     "name": "stdout",
     "output_type": "stream",
     "text": [
      "[TPR  FPR] = [0.89866667 0.00206803]\n"
     ]
    }
   ],
   "source": [
    "M = 30  # use 30 different seed\n",
    "res = np.zeros(2)\n",
    "for seed in range(M):\n",
    "    X, S = gen_data(n, p, s, r, seed)\n",
    "    model = RobustPCA(support_size=s).fit(X, r=r)\n",
    "    res += test_model(model.coef_, S)\n",
    "\n",
    "print(f'[TPR  FPR] = {res/M}')"
   ]
  },
  {
   "cell_type": "markdown",
   "metadata": {},
   "source": [
    "Under all of these situations, `RobustPCA` has a good performance."
   ]
  }
 ],
 "metadata": {
  "interpreter": {
   "hash": "e7370f93d1d0cde622a1f8e1c04877d8463912d04d973331ad4851f04de6915a"
  },
  "kernelspec": {
   "display_name": "Python 3.9.7 64-bit",
   "name": "python3"
  },
  "language_info": {
   "codemirror_mode": {
    "name": "ipython",
    "version": 3
   },
   "file_extension": ".py",
   "mimetype": "text/x-python",
   "name": "python",
   "nbconvert_exporter": "python",
   "pygments_lexer": "ipython3",
   "version": "3.8.10"
  },
  "metadata": {
   "interpreter": {
    "hash": "916dbcbb3f70747c44a77c7bcd40155683ae19c65e1c03b4aa3499c5328201f1"
   }
  },
  "orig_nbformat": 2
 },
 "nbformat": 4,
 "nbformat_minor": 2
}
