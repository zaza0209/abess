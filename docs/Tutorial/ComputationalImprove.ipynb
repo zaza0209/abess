{
 "cells": [
  {
   "cell_type": "markdown",
   "metadata": {},
   "source": [
    "# Computational Improvement\n",
    "\n",
    "The generic splicing technique certifiably guarantees the best subset can be selected in a polynomial time. In practice, the computational efficiency can be improved to handle large scale datasets. The tips for computational improvement include:\n",
    "\n",
    "- exploit sparse strucute of input matrix;\n",
    "- use golden-section to search best support size;\n",
    "- focus on important variables when splicing;\n",
    "- early-stop scheme;\n",
    "- sure independence screening;\n",
    "- warm-start initialization;\n",
    "- parallel computing when performing cross validation;\n",
    "- covariance update for `LinearRegression` or `MultiTaskRegression`;\n",
    "- approximate Newton iteration for `LogisticRegression`, `PoissonRegression`, `CoxRegression`.\n",
    "\n",
    "This vignette illustrate the first two tips. For the other tips, they have been efficiently implemented and set as the default in abess package.\n",
    "\n",
    "## Sparse matrix\n",
    "\n",
    "We sometimes meet with problems where the $N×p$ input matrix $X$ is extremely sparse, i.e., many entries in $X$ have zero values. A notable example comes from document classification: aiming to assign classes to a document, making it easier to manage for publishers and news sites. The input variables for characterizing documents are generated from a so called \"bag-of-words\" model. In this model, each variable is scored for the presence of each of the words in the entire dictionary under consideration. Since most words are absent, the input variables for each document is mostly zero, and so the entire matrix is mostly zero. \n",
    "\n",
    "For example, we create a sparse matrix like:"
   ]
  },
  {
   "cell_type": "code",
   "execution_count": 2,
   "metadata": {},
   "outputs": [
    {
     "name": "stdout",
     "output_type": "stream",
     "text": [
      "[[  4   0   0   0   0   0]\n",
      " [  0   0   0   5   0   0]\n",
      " [  0   7   0   0   0   0]\n",
      " [  0   0   9   0   0   0]\n",
      " [  0   0   0  23   1   0]\n",
      " [  0   0   0   0   0   4]\n",
      " [  0   0   5   0   0   0]\n",
      " [  0   8   0   6   0   0]\n",
      " [  0   0   0   0   0  77]\n",
      " [  0   0 100   0   0   0]]\n"
     ]
    }
   ],
   "source": [
    "from scipy.sparse import coo_matrix\n",
    "import numpy as np\n",
    "\n",
    "row  = np.array([0, 1, 2, 3, 4, 4,  5, 6, 7, 7, 8, 9])\n",
    "col  = np.array([0, 3, 1, 2, 4, 3, 5, 2, 3, 1, 5, 2])\n",
    "data = np.array([4, 5, 7, 9, 1, 23, 4, 5, 6, 8, 77, 100])\n",
    "x = coo_matrix((data, (row, col)))\n",
    "\n",
    "print(x.toarray())"
   ]
  },
  {
   "cell_type": "markdown",
   "metadata": {},
   "source": [
    "The sparse matrix can be directly used in `abess` pacakages. We just need to set argument `sparse_matrix = T`. Note that if the input matrix is not sparse matrix, the program would automatically transfer it into the sparse one, so this argument can also make some improvement."
   ]
  },
  {
   "cell_type": "code",
   "execution_count": 3,
   "metadata": {},
   "outputs": [
    {
     "name": "stdout",
     "output_type": "stream",
     "text": [
      "real coef: \n",
      " [1 1 1 0 0 0]\n",
      "pred coef: \n",
      " [1. 1. 1. 0. 0. 0.]\n"
     ]
    }
   ],
   "source": [
    "from abess import LinearRegression\n",
    "\n",
    "coef = np.array([1, 1, 1, 0, 0, 0])\n",
    "y = x.dot(coef)\n",
    "model = LinearRegression(sparse_matrix = True)\n",
    "model.fit(x, y)\n",
    "\n",
    "print(\"real coef: \\n\", coef)\n",
    "print(\"pred coef: \\n\", model.coef_)\n"
   ]
  },
  {
   "cell_type": "markdown",
   "metadata": {},
   "source": [
    "We compare the runtime when the input matrix is dense matrix:"
   ]
  },
  {
   "cell_type": "code",
   "execution_count": 14,
   "metadata": {},
   "outputs": [
    {
     "name": "stdout",
     "output_type": "stream",
     "text": [
      "dense matrix:   0.0017390251159667969\n",
      "sparse matrix:   0.0006875991821289062\n"
     ]
    }
   ],
   "source": [
    "from time import time\n",
    "\n",
    "t = time()\n",
    "model = LinearRegression()\n",
    "model.fit(x.toarray(), y)\n",
    "print(\"dense matrix:  \", time() - t)\n",
    "\n",
    "t = time()\n",
    "model = LinearRegression(sparse_matrix = True)\n",
    "model.fit(x, y)\n",
    "print(\"sparse matrix:  \", time() - t)"
   ]
  },
  {
   "cell_type": "markdown",
   "metadata": {},
   "source": [
    "From the comparison, we see that the time required by sparse matrix is smaller, and this sould be more visible when the sparse imput matrix is large. Hence, we suggest to assign a sparse matrix to `abess` when the input matrix have a lot of zero entries."
   ]
  },
  {
   "cell_type": "markdown",
   "metadata": {},
   "source": [
    "## Golden-section searching\n",
    "\n",
    "Here we generate a simple example and draw the path of scores of information criterion. Typically, the curve should be a strictly unimodal function achieving minimum at the true subset size."
   ]
  },
  {
   "cell_type": "code",
   "execution_count": 15,
   "metadata": {},
   "outputs": [
    {
     "name": "stdout",
     "output_type": "stream",
     "text": [
      "lowest point:  5\n"
     ]
    },
    {
     "data": {
      "image/png": "[encoded data removed]",
      "text/plain": [
       "<Figure size 432x288 with 1 Axes>"
      ]
     },
     "metadata": {
      "needs_background": "light"
     },
     "output_type": "display_data"
    }
   ],
   "source": [
    "import numpy as np\n",
    "import matplotlib.pyplot as plt\n",
    "from abess.datasets import make_glm_data\n",
    "\n",
    "np.random.seed(0)\n",
    "data = make_glm_data(n = 100, p = 20, k = 5, family = 'gaussian')\n",
    "\n",
    "ic = np.zeros(21)\n",
    "for sz in range(21):\n",
    "    model = LinearRegression(support_size = [sz], ic_type = 'ebic')\n",
    "    model.fit(data.x, data.y)\n",
    "    ic[sz] = model.ic_\n",
    "\n",
    "print(\"lowest point: \", np.argmin(ic))\n",
    "plt.plot(ic, 'o-')\n",
    "plt.xlabel('support_size')\n",
    "plt.ylabel('EBIC')\n",
    "plt.show()"
   ]
  },
  {
   "cell_type": "markdown",
   "metadata": {},
   "source": [
    "Here the generated data contains 100 observations with 20 predictors, while 5 of them are useful (should be non-zero). The default information criterion is EBIC. From the figure, we can find that \"support_size = 5\" is the lowest point.\n",
    "\n",
    "Compared with searching the optimal support size one by one from a candidate set with $O(s_{max})$ complexity, **golden-section** reduce the time complexity to $O(ln(s_{max}))$, giving a significant computational improvement.\n",
    "\n",
    "In `abess` package, this can be easily formed like:"
   ]
  },
  {
   "cell_type": "code",
   "execution_count": 17,
   "metadata": {},
   "outputs": [
    {
     "name": "stdout",
     "output_type": "stream",
     "text": [
      "real coef:\n",
      " [ 2  5 10 11 18]\n",
      "predicted coef:\n",
      " [ 2  5 10 11 18]\n"
     ]
    }
   ],
   "source": [
    "model = LinearRegression(path_type = 'gs', s_min = 0, s_max = 20)\n",
    "model.fit(data.x, data.y)\n",
    "print(\"real coef:\\n\", np.nonzero(data.coef_)[0])\n",
    "print(\"predicted coef:\\n\", np.nonzero(model.coef_)[0])"
   ]
  },
  {
   "cell_type": "markdown",
   "metadata": {},
   "source": [
    "where `path_type = gs` means golden-section and `s_min`, `s_max` indicates the left and right bound of range of the support size. Note that in golden-section searching, we should not give `support_size`, which is only useful for sequential strategy.\n",
    "\n",
    "The output of golden-section strategy suggests the optimal model size is accurately detected. Compare to the sequential searching, the golden section reduce the runtime because it skip some support sizes which are likely to be a non-optimal one:"
   ]
  },
  {
   "cell_type": "code",
   "execution_count": 18,
   "metadata": {},
   "outputs": [
    {
     "name": "stdout",
     "output_type": "stream",
     "text": [
      "sequential time:  0.005547523498535156\n",
      "golden-section time:  0.0013275146484375\n"
     ]
    }
   ],
   "source": [
    "from time import time\n",
    "\n",
    "t1 = time()\n",
    "model = LinearRegression(support_size = range(21))\n",
    "model.fit(data.x, data.y)\n",
    "print(\"sequential time: \", time() - t1)\n",
    "\n",
    "t2 = time()\n",
    "model = LinearRegression(path_type = 'gs', s_min = 0, s_max = 20)\n",
    "model.fit(data.x, data.y)\n",
    "print(\"golden-section time: \", time() - t2)"
   ]
  },
  {
   "cell_type": "markdown",
   "metadata": {},
   "source": [
    "The golden-section runs much faster than sequential method, espectially when the range of support size is large.\n",
    "\n",
    "## Important Search\n",
    "\n",
    "Suppose that there are only a few variables are important (i.e. too many noise variables), it may be a vise choice to focus on some important variables in splicing process. This can save a lot of time, especially under a large $p$.\n",
    "\n",
    "In abess package, an argument called `important_search` is used for it, which means the size of inactive set for each splicing process. By default, this argument is set as 0, and the total inactive variables would be contained in the inactive set. But if an positive integer is given, the splicing process would focus on active set and the most important `important_search` inactive variables.\n",
    "\n",
    "However, after convergence on this subset, we check if the chosen variables are still the most important ones by recomputing on the full set with the new active set. If not, we update the subset and splicing again. On our testing, it would not iterate many time to reach a stable subset. After that, the active set on the stable subset would be treated as that on the full set.\n",
    "\n",
    "Here we take `LogisticRegression` for an example. "
   ]
  },
  {
   "cell_type": "code",
   "execution_count": 36,
   "metadata": {},
   "outputs": [
    {
     "name": "stdout",
     "output_type": "stream",
     "text": [
      "non_zero :\n",
      " [ 374  713 2386 3144 3369 3605 3893 5041 5318 7968]\n",
      "time :  3.5547900199890137\n"
     ]
    }
   ],
   "source": [
    "from abess.linear import LogisticRegression\n",
    "from abess.datasets import make_glm_data\n",
    "from time import time\n",
    "import numpy as np\n",
    "\n",
    "data = make_glm_data(n = 500, p = 10000, k = 10, family = \"binomial\")\n",
    "\n",
    "t1 = time()\n",
    "model = LogisticRegression()\n",
    "model.fit(data.x, data.y)\n",
    "t2 = time()\n",
    "\n",
    "print(\"non_zero :\\n\", np.nonzero(model.coef_)[0])\n",
    "print(\"time : \", t2 - t1)"
   ]
  },
  {
   "cell_type": "markdown",
   "metadata": {},
   "source": [
    "However, if we only focus on 500 important inactive variables when searching:"
   ]
  },
  {
   "cell_type": "code",
   "execution_count": 37,
   "metadata": {},
   "outputs": [
    {
     "name": "stdout",
     "output_type": "stream",
     "text": [
      "non_zero :\n",
      " [ 374  713 2386 3144 3369 3605 3893 5041 5318 7968]\n",
      "time :  0.9014718532562256\n"
     ]
    }
   ],
   "source": [
    "t1 = time()\n",
    "model2 = LogisticRegression(important_search = 500)\n",
    "model2.fit(data.x, data.y)\n",
    "t2 = time()\n",
    "\n",
    "print(\"non_zero :\\n\", np.nonzero(model2.coef_)[0])\n",
    "print(\"time : \", t2 - t1)"
   ]
  },
  {
   "cell_type": "markdown",
   "metadata": {},
   "source": [
    "It takes much less time to reach the same result. We recommend use this method for large $p$ situation, but in small one, it may not be faster than the primary fitting.\n",
    "\n",
    "Here we compare the AUC and runtime for `LogisticRegression` under different `important_search` and the test code can be found [here](https://github.com/abess-team/abess/blob/master/docs/simulation/Python/impsearch.py).\n",
    "\n",
    "![](./fig/impsearch.png)\n",
    "\n",
    "At a low level of `important_search`, however, the performance (AUC) has been very good. In this situation, a lower `important_search` can save lots of time and space."
   ]
  },
  {
   "cell_type": "markdown",
   "metadata": {},
   "source": [
    "\n",
    "## R tutorial\n",
    "\n",
    "For R tutorial, please view [https://abess-team.github.io/abess/articles/v09-fasterSetting.html](https://abess-team.github.io/abess/articles/v09-fasterSetting.html)."
   ]
  }
 ],
 "metadata": {
  "interpreter": {
   "hash": "e7370f93d1d0cde622a1f8e1c04877d8463912d04d973331ad4851f04de6915a"
  },
  "kernelspec": {
   "display_name": "Python 3.8.10 64-bit",
   "name": "python3"
  },
  "language_info": {
   "codemirror_mode": {
    "name": "ipython",
    "version": 3
   },
   "file_extension": ".py",
   "mimetype": "text/x-python",
   "name": "python",
   "nbconvert_exporter": "python",
   "pygments_lexer": "ipython3",
   "version": "3.10.1"
  },
  "orig_nbformat": 4
 },
 "nbformat": 4,
 "nbformat_minor": 2
}
