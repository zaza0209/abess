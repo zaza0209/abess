{
 "cells": [
  {
   "cell_type": "markdown",
   "metadata": {},
   "source": [
    "# Logistic Regression and Multinomial Extension\n",
    "\n",
    "We would like to use an example to show how the best subset selection for logistic regression work in our program.\n",
    "\n",
    "## Real Data Example\n",
    "\n",
    "### Titanic Dataset\n",
    "\n",
    "Consider the Titanic dataset obtained from the Kaggle competition: https://www.kaggle.com/c/titanic/data. \n",
    "The dataset consists of data about 889 passengers, and the goal of the competition is to predict the survival (yes/no) based on features including the class of service, the sex, the age etc. "
   ]
  },
  {
   "cell_type": "code",
   "execution_count": 134,
   "metadata": {
    "tags": []
   },
   "outputs": [
    {
     "name": "stdout",
     "output_type": "stream",
     "text": [
      "   PassengerId  Survived  Pclass  \\\n",
      "0            1         0       3   \n",
      "1            2         1       1   \n",
      "2            3         1       3   \n",
      "3            4         1       1   \n",
      "4            5         0       3   \n",
      "\n",
      "                                                Name     Sex   Age  SibSp  \\\n",
      "0                            Braund, Mr. Owen Harris    male  22.0      1   \n",
      "1  Cumings, Mrs. John Bradley (Florence Briggs Th...  female  38.0      1   \n",
      "2                             Heikkinen, Miss. Laina  female  26.0      0   \n",
      "3       Futrelle, Mrs. Jacques Heath (Lily May Peel)  female  35.0      1   \n",
      "4                           Allen, Mr. William Henry    male  35.0      0   \n",
      "\n",
      "   Parch            Ticket     Fare Cabin Embarked  \n",
      "0      0         A/5 21171   7.2500   NaN        S  \n",
      "1      0          PC 17599  71.2833   C85        C  \n",
      "2      0  STON/O2. 3101282   7.9250   NaN        S  \n",
      "3      0            113803  53.1000  C123        S  \n",
      "4      0            373450   8.0500   NaN        S  \n"
     ]
    }
   ],
   "source": [
    "import numpy as np \n",
    "import pandas as pd\n",
    "\n",
    "dt = pd.read_csv(\"./train.csv\")\n",
    "print(dt.head(5))"
   ]
  },
  {
   "cell_type": "markdown",
   "metadata": {},
   "source": [
    "We only focus on some numeric or classification variables:\n",
    "\n",
    "- predictor variables: $Pclass,\\ Sex,\\ Age,\\ SibSp,\\ Parch,\\ Fare,\\ Embarked$;\n",
    "- response variable is $Survived$."
   ]
  },
  {
   "cell_type": "code",
   "execution_count": 135,
   "metadata": {},
   "outputs": [
    {
     "name": "stdout",
     "output_type": "stream",
     "text": [
      "   Survived Pclass     Sex   Age  SibSp  Parch     Fare Embarked\n",
      "0         0      3    male  22.0      1      0   7.2500        S\n",
      "1         1      1  female  38.0      1      0  71.2833        C\n",
      "2         1      3  female  26.0      0      0   7.9250        S\n",
      "3         1      1  female  35.0      1      0  53.1000        S\n",
      "4         0      3    male  35.0      0      0   8.0500        S\n"
     ]
    }
   ],
   "source": [
    "dt = dt.iloc[:, [1,2,4,5,6,7,9,11]] # variables interested\n",
    "dt['Pclass'] = dt['Pclass'].astype(str)\n",
    "print(dt.head(5))"
   ]
  },
  {
   "cell_type": "markdown",
   "metadata": {},
   "source": [
    "However, some rows contain missing value (NaN) and we need to drop them."
   ]
  },
  {
   "cell_type": "code",
   "execution_count": 136,
   "metadata": {},
   "outputs": [
    {
     "name": "stdout",
     "output_type": "stream",
     "text": [
      "sample size:  (712, 8)\n"
     ]
    }
   ],
   "source": [
    "dt = dt.dropna()\n",
    "print('sample size: ', dt.shape)"
   ]
  },
  {
   "cell_type": "markdown",
   "metadata": {},
   "source": [
    "Then use dummy variables to replace classification variables:"
   ]
  },
  {
   "cell_type": "code",
   "execution_count": 137,
   "metadata": {},
   "outputs": [
    {
     "name": "stdout",
     "output_type": "stream",
     "text": [
      "   Survived   Age  SibSp  Parch     Fare  Pclass_1  Pclass_2  Pclass_3  \\\n",
      "0         0  22.0      1      0   7.2500         0         0         1   \n",
      "1         1  38.0      1      0  71.2833         1         0         0   \n",
      "2         1  26.0      0      0   7.9250         0         0         1   \n",
      "3         1  35.0      1      0  53.1000         1         0         0   \n",
      "4         0  35.0      0      0   8.0500         0         0         1   \n",
      "\n",
      "   Sex_female  Sex_male  Embarked_C  Embarked_Q  Embarked_S  \n",
      "0           0         1           0           0           1  \n",
      "1           1         0           1           0           0  \n",
      "2           1         0           0           0           1  \n",
      "3           1         0           0           0           1  \n",
      "4           0         1           0           0           1  \n"
     ]
    }
   ],
   "source": [
    "dt1 = pd.get_dummies(dt)\n",
    "print(dt1.head(5))"
   ]
  },
  {
   "cell_type": "markdown",
   "metadata": {},
   "source": [
    "Now we split `dt1` into training set and testing set:"
   ]
  },
  {
   "cell_type": "code",
   "execution_count": 138,
   "metadata": {},
   "outputs": [
    {
     "name": "stdout",
     "output_type": "stream",
     "text": [
      "train size:  477\n",
      "test size: 235\n"
     ]
    }
   ],
   "source": [
    "from sklearn.model_selection import train_test_split\n",
    "X = np.array(dt1.drop('Survived', axis = 1))\n",
    "Y = np.array(dt1.Survived)\n",
    "\n",
    "train_x, test_x, train_y, test_y = train_test_split(X, Y, test_size = 0.33, random_state = 0)\n",
    "print('train size: ', train_x.shape[0])\n",
    "print('test size:', test_x.shape[0])"
   ]
  },
  {
   "cell_type": "markdown",
   "metadata": {},
   "source": [
    "Here `train_x` contains:\n",
    "\n",
    "- V0: dummy variable, 1st ticket class (1-yes, 0-no)\n",
    "- V1: dummy variable, 2nd ticket class (1-yes, 0-no)\n",
    "- V2: dummy variable, sex (1-male, 0-female)\n",
    "- V3: Age\n",
    "- V4: # of siblings / spouses aboard the Titanic\n",
    "- V5: # of parents / children aboard the Titanic\n",
    "- V6: Passenger fare\n",
    "- V7: dummy variable, Cherbourg for embarkation (1-yes, 0-no)\n",
    "- V8: dummy variable, Queenstown for embarkation (1-yes, 0-no)\n",
    "\n",
    "And `train_y` indicates whether the passenger survived (1-yes, 0-no)."
   ]
  },
  {
   "cell_type": "code",
   "execution_count": 139,
   "metadata": {},
   "outputs": [
    {
     "name": "stdout",
     "output_type": "stream",
     "text": [
      "train_x:\n",
      " [[54.      1.      0.     59.4     1.      0.      0.      1.      0.\n",
      "   1.      0.      0.    ]\n",
      " [30.      0.      0.      8.6625  0.      0.      1.      1.      0.\n",
      "   0.      0.      1.    ]\n",
      " [47.      0.      0.     38.5     1.      0.      0.      0.      1.\n",
      "   0.      0.      1.    ]\n",
      " [28.      2.      0.      7.925   0.      0.      1.      0.      1.\n",
      "   0.      0.      1.    ]\n",
      " [29.      1.      0.     26.      0.      1.      0.      1.      0.\n",
      "   0.      0.      1.    ]]\n",
      "train_y:\n",
      " [1 0 0 0 1]\n"
     ]
    }
   ],
   "source": [
    "print('train_x:\\n', train_x[0:5, :])\n",
    "print('train_y:\\n', train_y[0:5])"
   ]
  },
  {
   "cell_type": "markdown",
   "metadata": {},
   "source": [
    "### Model Fitting\n",
    "\n",
    "The `LogisticRegression()` function in the `abess.linear` allows you to perform best subset selection in a highly efficient way. For example, in the Titanic sample, if you want to look for a best subset with no more than 5 variables on the logistic model, you can call:"
   ]
  },
  {
   "cell_type": "code",
   "execution_count": 140,
   "metadata": {},
   "outputs": [
    {
     "data": {
      "text/plain": [
       "abessLogistic(support_size=range(0, 6))"
      ]
     },
     "execution_count": 140,
     "metadata": {},
     "output_type": "execute_result"
    }
   ],
   "source": [
    "from abess.linear import LogisticRegression\n",
    "\n",
    "s = 5   # max target sparsity\n",
    "model = LogisticRegression(support_size = range(0, s + 1))\n",
    "model.fit(train_x, train_y)"
   ]
  },
  {
   "cell_type": "markdown",
   "metadata": {},
   "source": [
    "Now the `model.coef_` contains the coefficients of logistic model with no more than 5 variables. That is, those variables with a coefficient 0 is unused in the model: "
   ]
  },
  {
   "cell_type": "code",
   "execution_count": 141,
   "metadata": {},
   "outputs": [
    {
     "name": "stdout",
     "output_type": "stream",
     "text": [
      "[-0.05410776 -0.53642966  0.          0.          1.74091231  0.\n",
      " -1.26223831  2.7096497   0.          0.          0.          0.        ]\n"
     ]
    }
   ],
   "source": [
    "print(model.coef_)"
   ]
  },
  {
   "cell_type": "markdown",
   "metadata": {},
   "source": [
    "By default, the `LogisticRegression` function set the `support_size = range(0, min(p,n/log(n)p)` and the best support size is determined by theExtended Bayesian Information Criteria (EBIC). You can change the tunging criterion by specifying the argument `ic_type`. The available tuning criterion now are `gic`, `aic`, `bic`, `ebic`. \n",
    "\n",
    "For a quicker solution, you can change the tuning strategy to a golden section path which trys to find the elbow point of the tuning criterion over the hyperparameter space. Here we give an example."
   ]
  },
  {
   "cell_type": "code",
   "execution_count": 142,
   "metadata": {},
   "outputs": [
    {
     "name": "stdout",
     "output_type": "stream",
     "text": [
      "[-0.05410776 -0.53642966  0.          0.          1.74091231  0.\n",
      " -1.26223831  2.7096497   0.          0.          0.          0.        ]\n"
     ]
    }
   ],
   "source": [
    "model_gs = LogisticRegression(path_type = \"gs\", s_min = 0, s_max = s)\n",
    "model_gs.fit(train_x, train_y)\n",
    "print(model_gs.coef_)"
   ]
  },
  {
   "cell_type": "markdown",
   "metadata": {},
   "source": [
    "where `s_min` and `s_max` bound the support size and this model give the same answer as before."
   ]
  },
  {
   "cell_type": "markdown",
   "metadata": {},
   "source": [
    "### More on the Results\n",
    "\n",
    "After fitting with `model.fit()`, we can further do more exploring work to interpret it. \n",
    "As we show above, `model.coef_` contains the sparse coefficients of variables and those non-zero values indicates \"important\" varibles chosen in the model."
   ]
  },
  {
   "cell_type": "code",
   "execution_count": 143,
   "metadata": {},
   "outputs": [
    {
     "name": "stdout",
     "output_type": "stream",
     "text": [
      "Intercept:  [0.57429775]\n",
      "coefficients: \n",
      " [-0.05410776 -0.53642966  0.          0.          1.74091231  0.\n",
      " -1.26223831  2.7096497   0.          0.          0.          0.        ]\n",
      "Used variables' index: [0 1 4 6 7]\n"
     ]
    }
   ],
   "source": [
    "print('Intercept: ', model.intercept_)\n",
    "print('coefficients: \\n', model.coef_)\n",
    "print('Used variables\\' index:', np.nonzero(model.coef_ != 0)[0])"
   ]
  },
  {
   "cell_type": "markdown",
   "metadata": {},
   "source": [
    "The training loss and the score under information criterion:"
   ]
  },
  {
   "cell_type": "code",
   "execution_count": 144,
   "metadata": {},
   "outputs": [
    {
     "name": "stdout",
     "output_type": "stream",
     "text": [
      "Training Loss:  [204.35270048]\n",
      "IC:  [464.39204991]\n"
     ]
    }
   ],
   "source": [
    "print('Training Loss: ', model.train_loss_)\n",
    "print('IC: ', model.ic_)"
   ]
  },
  {
   "cell_type": "markdown",
   "metadata": {},
   "source": [
    "Prediction is allowed for the estimated model. Just call `model.predict()` function like: "
   ]
  },
  {
   "cell_type": "code",
   "execution_count": 145,
   "metadata": {},
   "outputs": [
    {
     "name": "stdout",
     "output_type": "stream",
     "text": [
      "[0. 0. 1. 0. 0. 0. 1. 0. 0. 1. 1. 1. 1. 0. 0. 1. 0. 1. 0. 0. 0. 1. 1. 0.\n",
      " 1. 0. 0. 0. 1. 0. 0. 0. 0. 1. 1. 1. 1. 1. 0. 0. 0. 0. 0. 0. 0. 0. 1. 0.\n",
      " 0. 1. 1. 1. 1. 0. 1. 1. 0. 0. 1. 0. 0. 0. 0. 0. 0. 0. 1. 0. 1. 1. 0. 1.\n",
      " 1. 1. 0. 1. 0. 0. 0. 0. 1. 1. 0. 1. 1. 0. 0. 0. 1. 0. 0. 0. 1. 1. 1. 0.\n",
      " 1. 1. 0. 0. 0. 1. 0. 0. 0. 0. 1. 0. 0. 0. 0. 1. 1. 0. 0. 0. 0. 0. 0. 0.\n",
      " 0. 0. 0. 1. 0. 0. 0. 0. 1. 1. 0. 1. 1. 1. 1. 1. 1. 0. 0. 0. 0. 0. 1. 1.\n",
      " 1. 0. 0. 0. 0. 0. 0. 0. 1. 1. 1. 0. 0. 1. 1. 1. 1. 0. 1. 1. 0. 0. 0. 0.\n",
      " 0. 0. 1. 1. 1. 0. 1. 1. 1. 0. 0. 0. 0. 0. 0. 0. 0. 1. 0. 0. 1. 1. 0. 1.\n",
      " 1. 0. 1. 1. 0. 0. 1. 1. 0. 1. 0. 1. 0. 0. 0. 0. 0. 0. 1. 1. 1. 1. 0. 0.\n",
      " 1. 1. 0. 1. 1. 0. 0. 1. 0. 0. 0. 0. 0. 0. 0. 0. 0. 0. 0.]\n"
     ]
    }
   ],
   "source": [
    "fitted_y = model.predict(test_x)\n",
    "print(fitted_y)"
   ]
  },
  {
   "cell_type": "markdown",
   "metadata": {},
   "source": [
    "Besides, you can also call for the survival probability of each observation by `model.predict_proba()`. Actually, those who with a probability greater than 0.5 is classified to \"1\" (survived)."
   ]
  },
  {
   "cell_type": "code",
   "execution_count": 146,
   "metadata": {},
   "outputs": [
    {
     "name": "stdout",
     "output_type": "stream",
     "text": [
      "[0.49256613 0.25942968 0.84928463 0.20204183 0.03801548 0.04022349\n",
      " 0.72351443 0.23115622 0.23115622 0.66834673 0.96775535 0.64905946\n",
      " 0.98461921 0.15238867 0.25004079 0.57640212 0.26995968 0.71264582\n",
      " 0.37791835 0.1771314  0.25773297 0.75392142 0.87974411 0.40251569\n",
      " 0.56441882 0.34057869 0.22005156 0.067159   0.57880531 0.33647767\n",
      " 0.15655122 0.02682661 0.14553043 0.69663788 0.89078445 0.87925152\n",
      " 0.91926004 0.59081387 0.42997279 0.45653474 0.38846964 0.09020182\n",
      " 0.05742461 0.07773719 0.0994852  0.11006334 0.9819574  0.14219863\n",
      " 0.1096089  0.96940171 0.71351188 0.69663788 0.63663757 0.25942968\n",
      " 0.54978583 0.53309793 0.07032472 0.0706292  0.86889888 0.37901167\n",
      " 0.43876674 0.03084541 0.14553043 0.19993615 0.29180956 0.11828599\n",
      " 0.94586145 0.30610513 0.98763221 0.80911714 0.25942968 0.93051703\n",
      " 0.9097025  0.51285362 0.04924417 0.53765354 0.48242039 0.26040948\n",
      " 0.09474175 0.3384564  0.55107315 0.88025271 0.09058398 0.81733446\n",
      " 0.86836852 0.09474175 0.04461544 0.28075505 0.78890012 0.13893026\n",
      " 0.02434171 0.04697945 0.70146853 0.91404969 0.66232291 0.0994852\n",
      " 0.93719603 0.8422183  0.1096089  0.15469685 0.15238867 0.85879022\n",
      " 0.22005156 0.24091195 0.21168044 0.15238867 0.60493878 0.32644935\n",
      " 0.26125213 0.07517093 0.13893026 0.74034636 0.84746075 0.45213182\n",
      " 0.0706292  0.25942968 0.22005156 0.01835698 0.14163263 0.20211369\n",
      " 0.15238867 0.09990237 0.23918546 0.73072611 0.26215016 0.03608545\n",
      " 0.03870124 0.16253688 0.74034636 0.97993672 0.08170611 0.64073592\n",
      " 0.84033393 0.85210036 0.80983396 0.97257783 0.63663757 0.01819022\n",
      " 0.04521358 0.11500215 0.35283318 0.0604244  0.80983396 0.65427173\n",
      " 0.56441882 0.21090587 0.09020182 0.15238867 0.09205769 0.13258298\n",
      " 0.07032472 0.10443874 0.67329436 0.91047691 0.87141113 0.13258298\n",
      " 0.13893026 0.69001575 0.9854175  0.74034636 0.95157309 0.09990237\n",
      " 0.97884484 0.51066947 0.04441775 0.04441775 0.28361352 0.03487023\n",
      " 0.49488971 0.1178021  0.64073592 0.62512052 0.97884484 0.0706292\n",
      " 0.50493039 0.62403068 0.86836852 0.13893026 0.17455761 0.3031159\n",
      " 0.07773719 0.37901167 0.11778441 0.4701259  0.40262288 0.9369219\n",
      " 0.17455761 0.16689812 0.66640667 0.87338811 0.24261599 0.58525135\n",
      " 0.76060241 0.09058398 0.958343   0.72981059 0.30511879 0.29180956\n",
      " 0.77425595 0.96775535 0.0858588  0.86836852 0.03084541 0.71900957\n",
      " 0.08726302 0.05295266 0.34866263 0.32853374 0.034404   0.15950977\n",
      " 0.91085503 0.52533827 0.80136124 0.55222273 0.07394554 0.24917023\n",
      " 0.76475846 0.73431446 0.27182894 0.8976234  0.67329436 0.04441775\n",
      " 0.30124969 0.97648392 0.16253688 0.14892722 0.02069282 0.28267012\n",
      " 0.05742461 0.05012194 0.12648308 0.06745077 0.08275843 0.09020182\n",
      " 0.067159  ]\n"
     ]
    }
   ],
   "source": [
    "fitted_p = model.predict_proba(test_x)\n",
    "print(fitted_p)"
   ]
  },
  {
   "cell_type": "markdown",
   "metadata": {},
   "source": [
    "We can also generate an ROC curve and calculate tha AUC value. On this dataset, the AUC is 0.817, which is quite close to 1."
   ]
  },
  {
   "cell_type": "code",
   "execution_count": 147,
   "metadata": {},
   "outputs": [
    {
     "data": {
      "image/png": "[encoded data removed]",
      "image/svg+xml": "<?xml version=\"1.0\" encoding=\"utf-8\" standalone=\"no\"?>\n<!DOCTYPE svg PUBLIC \"-//W3C//DTD SVG 1.1//EN\"\n  \"http://www.w3.org/Graphics/SVG/1.1/DTD/svg11.dtd\">\n<svg height=\"248.518125pt\" version=\"1.1\" viewBox=\"0 0 372.103125 248.518125\" width=\"372.103125pt\" xmlns=\"http://www.w3.org/2000/svg\" xmlns:xlink=\"http://www.w3.org/1999/xlink\">\n <metadata>\n  <rdf:RDF xmlns:cc=\"http://creativecommons.org/ns#\" xmlns:dc=\"http://purl.org/dc/elements/1.1/\" xmlns:rdf=\"http://www.w3.org/1999/02/22-rdf-syntax-ns#\">\n   <cc:Work>\n    <dc:type rdf:resource=\"http://purl.org/dc/dcmitype/StillImage\"/>\n    <dc:date>2021-06-30T23:35:22.800332</dc:date>\n    <dc:format>image/svg+xml</dc:format>\n    <dc:creator>\n     <cc:Agent>\n      <dc:title>Matplotlib v3.4.2, https://matplotlib.org/</dc:title>\n     </cc:Agent>\n    </dc:creator>\n   </cc:Work>\n  </rdf:RDF>\n </metadata>\n <defs>\n  <style type=\"text/css\">*{stroke-linecap:butt;stroke-linejoin:round;}</style>\n </defs>\n <g id=\"figure_1\">\n  <g id=\"patch_1\">\n   <path d=\"M 0 248.518125 \nL 372.103125 248.518125 \nL 372.103125 0 \nL 0 0 \nz\n\" style=\"fill:none;\"/>\n  </g>\n  <g id=\"axes_1\">\n   <g id=\"patch_2\">\n    <path d=\"M 30.103125 224.64 \nL 364.903125 224.64 \nL 364.903125 7.2 \nL 30.103125 7.2 \nz\n\" style=\"fill:#ffffff;\"/>\n   </g>\n   <g id=\"matplotlib.axis_1\">\n    <g id=\"xtick_1\">\n     <g id=\"line2d_1\">\n      <defs>\n       <path d=\"M 0 0 \nL 0 3.5 \n\" id=\"me4fe1069e1\" style=\"stroke:#000000;stroke-width:0.8;\"/>\n      </defs>\n      <g>\n       <use style=\"stroke:#000000;stroke-width:0.8;\" x=\"45.321307\" xlink:href=\"#me4fe1069e1\" y=\"224.64\"/>\n      </g>\n     </g>\n     <g id=\"text_1\">\n      <!-- 0.0 -->\n      <g transform=\"translate(37.369744 239.238437)scale(0.1 -0.1)\">\n       <defs>\n        <path d=\"M 2034 4250 \nQ 1547 4250 1301 3770 \nQ 1056 3291 1056 2328 \nQ 1056 1369 1301 889 \nQ 1547 409 2034 409 \nQ 2525 409 2770 889 \nQ 3016 1369 3016 2328 \nQ 3016 3291 2770 3770 \nQ 2525 4250 2034 4250 \nz\nM 2034 4750 \nQ 2819 4750 3233 4129 \nQ 3647 3509 3647 2328 \nQ 3647 1150 3233 529 \nQ 2819 -91 2034 -91 \nQ 1250 -91 836 529 \nQ 422 1150 422 2328 \nQ 422 3509 836 4129 \nQ 1250 4750 2034 4750 \nz\n\" id=\"DejaVuSans-30\" transform=\"scale(0.015625)\"/>\n        <path d=\"M 684 794 \nL 1344 794 \nL 1344 0 \nL 684 0 \nL 684 794 \nz\n\" id=\"DejaVuSans-2e\" transform=\"scale(0.015625)\"/>\n       </defs>\n       <use xlink:href=\"#DejaVuSans-30\"/>\n       <use x=\"63.623047\" xlink:href=\"#DejaVuSans-2e\"/>\n       <use x=\"95.410156\" xlink:href=\"#DejaVuSans-30\"/>\n      </g>\n     </g>\n    </g>\n    <g id=\"xtick_2\">\n     <g id=\"line2d_2\">\n      <g>\n       <use style=\"stroke:#000000;stroke-width:0.8;\" x=\"106.194034\" xlink:href=\"#me4fe1069e1\" y=\"224.64\"/>\n      </g>\n     </g>\n     <g id=\"text_2\">\n      <!-- 0.2 -->\n      <g transform=\"translate(98.242472 239.238437)scale(0.1 -0.1)\">\n       <defs>\n        <path d=\"M 1228 531 \nL 3431 531 \nL 3431 0 \nL 469 0 \nL 469 531 \nQ 828 903 1448 1529 \nQ 2069 2156 2228 2338 \nQ 2531 2678 2651 2914 \nQ 2772 3150 2772 3378 \nQ 2772 3750 2511 3984 \nQ 2250 4219 1831 4219 \nQ 1534 4219 1204 4116 \nQ 875 4013 500 3803 \nL 500 4441 \nQ 881 4594 1212 4672 \nQ 1544 4750 1819 4750 \nQ 2544 4750 2975 4387 \nQ 3406 4025 3406 3419 \nQ 3406 3131 3298 2873 \nQ 3191 2616 2906 2266 \nQ 2828 2175 2409 1742 \nQ 1991 1309 1228 531 \nz\n\" id=\"DejaVuSans-32\" transform=\"scale(0.015625)\"/>\n       </defs>\n       <use xlink:href=\"#DejaVuSans-30\"/>\n       <use x=\"63.623047\" xlink:href=\"#DejaVuSans-2e\"/>\n       <use x=\"95.410156\" xlink:href=\"#DejaVuSans-32\"/>\n      </g>\n     </g>\n    </g>\n    <g id=\"xtick_3\">\n     <g id=\"line2d_3\">\n      <g>\n       <use style=\"stroke:#000000;stroke-width:0.8;\" x=\"167.066761\" xlink:href=\"#me4fe1069e1\" y=\"224.64\"/>\n      </g>\n     </g>\n     <g id=\"text_3\">\n      <!-- 0.4 -->\n      <g transform=\"translate(159.115199 239.238437)scale(0.1 -0.1)\">\n       <defs>\n        <path d=\"M 2419 4116 \nL 825 1625 \nL 2419 1625 \nL 2419 4116 \nz\nM 2253 4666 \nL 3047 4666 \nL 3047 1625 \nL 3713 1625 \nL 3713 1100 \nL 3047 1100 \nL 3047 0 \nL 2419 0 \nL 2419 1100 \nL 313 1100 \nL 313 1709 \nL 2253 4666 \nz\n\" id=\"DejaVuSans-34\" transform=\"scale(0.015625)\"/>\n       </defs>\n       <use xlink:href=\"#DejaVuSans-30\"/>\n       <use x=\"63.623047\" xlink:href=\"#DejaVuSans-2e\"/>\n       <use x=\"95.410156\" xlink:href=\"#DejaVuSans-34\"/>\n      </g>\n     </g>\n    </g>\n    <g id=\"xtick_4\">\n     <g id=\"line2d_4\">\n      <g>\n       <use style=\"stroke:#000000;stroke-width:0.8;\" x=\"227.939489\" xlink:href=\"#me4fe1069e1\" y=\"224.64\"/>\n      </g>\n     </g>\n     <g id=\"text_4\">\n      <!-- 0.6 -->\n      <g transform=\"translate(219.987926 239.238437)scale(0.1 -0.1)\">\n       <defs>\n        <path d=\"M 2113 2584 \nQ 1688 2584 1439 2293 \nQ 1191 2003 1191 1497 \nQ 1191 994 1439 701 \nQ 1688 409 2113 409 \nQ 2538 409 2786 701 \nQ 3034 994 3034 1497 \nQ 3034 2003 2786 2293 \nQ 2538 2584 2113 2584 \nz\nM 3366 4563 \nL 3366 3988 \nQ 3128 4100 2886 4159 \nQ 2644 4219 2406 4219 \nQ 1781 4219 1451 3797 \nQ 1122 3375 1075 2522 \nQ 1259 2794 1537 2939 \nQ 1816 3084 2150 3084 \nQ 2853 3084 3261 2657 \nQ 3669 2231 3669 1497 \nQ 3669 778 3244 343 \nQ 2819 -91 2113 -91 \nQ 1303 -91 875 529 \nQ 447 1150 447 2328 \nQ 447 3434 972 4092 \nQ 1497 4750 2381 4750 \nQ 2619 4750 2861 4703 \nQ 3103 4656 3366 4563 \nz\n\" id=\"DejaVuSans-36\" transform=\"scale(0.015625)\"/>\n       </defs>\n       <use xlink:href=\"#DejaVuSans-30\"/>\n       <use x=\"63.623047\" xlink:href=\"#DejaVuSans-2e\"/>\n       <use x=\"95.410156\" xlink:href=\"#DejaVuSans-36\"/>\n      </g>\n     </g>\n    </g>\n    <g id=\"xtick_5\">\n     <g id=\"line2d_5\">\n      <g>\n       <use style=\"stroke:#000000;stroke-width:0.8;\" x=\"288.812216\" xlink:href=\"#me4fe1069e1\" y=\"224.64\"/>\n      </g>\n     </g>\n     <g id=\"text_5\">\n      <!-- 0.8 -->\n      <g transform=\"translate(280.860653 239.238437)scale(0.1 -0.1)\">\n       <defs>\n        <path d=\"M 2034 2216 \nQ 1584 2216 1326 1975 \nQ 1069 1734 1069 1313 \nQ 1069 891 1326 650 \nQ 1584 409 2034 409 \nQ 2484 409 2743 651 \nQ 3003 894 3003 1313 \nQ 3003 1734 2745 1975 \nQ 2488 2216 2034 2216 \nz\nM 1403 2484 \nQ 997 2584 770 2862 \nQ 544 3141 544 3541 \nQ 544 4100 942 4425 \nQ 1341 4750 2034 4750 \nQ 2731 4750 3128 4425 \nQ 3525 4100 3525 3541 \nQ 3525 3141 3298 2862 \nQ 3072 2584 2669 2484 \nQ 3125 2378 3379 2068 \nQ 3634 1759 3634 1313 \nQ 3634 634 3220 271 \nQ 2806 -91 2034 -91 \nQ 1263 -91 848 271 \nQ 434 634 434 1313 \nQ 434 1759 690 2068 \nQ 947 2378 1403 2484 \nz\nM 1172 3481 \nQ 1172 3119 1398 2916 \nQ 1625 2713 2034 2713 \nQ 2441 2713 2670 2916 \nQ 2900 3119 2900 3481 \nQ 2900 3844 2670 4047 \nQ 2441 4250 2034 4250 \nQ 1625 4250 1398 4047 \nQ 1172 3844 1172 3481 \nz\n\" id=\"DejaVuSans-38\" transform=\"scale(0.015625)\"/>\n       </defs>\n       <use xlink:href=\"#DejaVuSans-30\"/>\n       <use x=\"63.623047\" xlink:href=\"#DejaVuSans-2e\"/>\n       <use x=\"95.410156\" xlink:href=\"#DejaVuSans-38\"/>\n      </g>\n     </g>\n    </g>\n    <g id=\"xtick_6\">\n     <g id=\"line2d_6\">\n      <g>\n       <use style=\"stroke:#000000;stroke-width:0.8;\" x=\"349.684943\" xlink:href=\"#me4fe1069e1\" y=\"224.64\"/>\n      </g>\n     </g>\n     <g id=\"text_6\">\n      <!-- 1.0 -->\n      <g transform=\"translate(341.733381 239.238437)scale(0.1 -0.1)\">\n       <defs>\n        <path d=\"M 794 531 \nL 1825 531 \nL 1825 4091 \nL 703 3866 \nL 703 4441 \nL 1819 4666 \nL 2450 4666 \nL 2450 531 \nL 3481 531 \nL 3481 0 \nL 794 0 \nL 794 531 \nz\n\" id=\"DejaVuSans-31\" transform=\"scale(0.015625)\"/>\n       </defs>\n       <use xlink:href=\"#DejaVuSans-31\"/>\n       <use x=\"63.623047\" xlink:href=\"#DejaVuSans-2e\"/>\n       <use x=\"95.410156\" xlink:href=\"#DejaVuSans-30\"/>\n      </g>\n     </g>\n    </g>\n   </g>\n   <g id=\"matplotlib.axis_2\">\n    <g id=\"ytick_1\">\n     <g id=\"line2d_7\">\n      <defs>\n       <path d=\"M 0 0 \nL -3.5 0 \n\" id=\"m2b47b83bc8\" style=\"stroke:#000000;stroke-width:0.8;\"/>\n      </defs>\n      <g>\n       <use style=\"stroke:#000000;stroke-width:0.8;\" x=\"30.103125\" xlink:href=\"#m2b47b83bc8\" y=\"214.756364\"/>\n      </g>\n     </g>\n     <g id=\"text_7\">\n      <!-- 0.0 -->\n      <g transform=\"translate(7.2 218.555582)scale(0.1 -0.1)\">\n       <use xlink:href=\"#DejaVuSans-30\"/>\n       <use x=\"63.623047\" xlink:href=\"#DejaVuSans-2e\"/>\n       <use x=\"95.410156\" xlink:href=\"#DejaVuSans-30\"/>\n      </g>\n     </g>\n    </g>\n    <g id=\"ytick_2\">\n     <g id=\"line2d_8\">\n      <g>\n       <use style=\"stroke:#000000;stroke-width:0.8;\" x=\"30.103125\" xlink:href=\"#m2b47b83bc8\" y=\"175.221818\"/>\n      </g>\n     </g>\n     <g id=\"text_8\">\n      <!-- 0.2 -->\n      <g transform=\"translate(7.2 179.021037)scale(0.1 -0.1)\">\n       <use xlink:href=\"#DejaVuSans-30\"/>\n       <use x=\"63.623047\" xlink:href=\"#DejaVuSans-2e\"/>\n       <use x=\"95.410156\" xlink:href=\"#DejaVuSans-32\"/>\n      </g>\n     </g>\n    </g>\n    <g id=\"ytick_3\">\n     <g id=\"line2d_9\">\n      <g>\n       <use style=\"stroke:#000000;stroke-width:0.8;\" x=\"30.103125\" xlink:href=\"#m2b47b83bc8\" y=\"135.687273\"/>\n      </g>\n     </g>\n     <g id=\"text_9\">\n      <!-- 0.4 -->\n      <g transform=\"translate(7.2 139.486491)scale(0.1 -0.1)\">\n       <use xlink:href=\"#DejaVuSans-30\"/>\n       <use x=\"63.623047\" xlink:href=\"#DejaVuSans-2e\"/>\n       <use x=\"95.410156\" xlink:href=\"#DejaVuSans-34\"/>\n      </g>\n     </g>\n    </g>\n    <g id=\"ytick_4\">\n     <g id=\"line2d_10\">\n      <g>\n       <use style=\"stroke:#000000;stroke-width:0.8;\" x=\"30.103125\" xlink:href=\"#m2b47b83bc8\" y=\"96.152727\"/>\n      </g>\n     </g>\n     <g id=\"text_10\">\n      <!-- 0.6 -->\n      <g transform=\"translate(7.2 99.951946)scale(0.1 -0.1)\">\n       <use xlink:href=\"#DejaVuSans-30\"/>\n       <use x=\"63.623047\" xlink:href=\"#DejaVuSans-2e\"/>\n       <use x=\"95.410156\" xlink:href=\"#DejaVuSans-36\"/>\n      </g>\n     </g>\n    </g>\n    <g id=\"ytick_5\">\n     <g id=\"line2d_11\">\n      <g>\n       <use style=\"stroke:#000000;stroke-width:0.8;\" x=\"30.103125\" xlink:href=\"#m2b47b83bc8\" y=\"56.618182\"/>\n      </g>\n     </g>\n     <g id=\"text_11\">\n      <!-- 0.8 -->\n      <g transform=\"translate(7.2 60.417401)scale(0.1 -0.1)\">\n       <use xlink:href=\"#DejaVuSans-30\"/>\n       <use x=\"63.623047\" xlink:href=\"#DejaVuSans-2e\"/>\n       <use x=\"95.410156\" xlink:href=\"#DejaVuSans-38\"/>\n      </g>\n     </g>\n    </g>\n    <g id=\"ytick_6\">\n     <g id=\"line2d_12\">\n      <g>\n       <use style=\"stroke:#000000;stroke-width:0.8;\" x=\"30.103125\" xlink:href=\"#m2b47b83bc8\" y=\"17.083636\"/>\n      </g>\n     </g>\n     <g id=\"text_12\">\n      <!-- 1.0 -->\n      <g transform=\"translate(7.2 20.882855)scale(0.1 -0.1)\">\n       <use xlink:href=\"#DejaVuSans-31\"/>\n       <use x=\"63.623047\" xlink:href=\"#DejaVuSans-2e\"/>\n       <use x=\"95.410156\" xlink:href=\"#DejaVuSans-30\"/>\n      </g>\n     </g>\n    </g>\n   </g>\n   <g id=\"line2d_13\">\n    <path clip-path=\"url(#pc12eb84b3a)\" d=\"M 45.321307 214.756364 \nL 47.464713 214.756364 \nL 47.464713 206.254311 \nL 47.464713 202.003284 \nL 47.464713 195.626745 \nL 47.464713 191.375718 \nL 49.608119 191.375718 \nL 49.608119 161.618534 \nL 51.751524 161.618534 \nL 51.751524 159.493021 \nL 53.89493 159.493021 \nL 53.89493 157.367507 \nL 53.89493 150.990968 \nL 53.89493 136.112375 \nL 53.89493 131.861349 \nL 53.89493 123.359296 \nL 56.038336 123.359296 \nL 56.038336 119.10827 \nL 58.181742 114.857243 \nL 62.468554 114.857243 \nL 62.468554 110.606217 \nL 64.61196 110.606217 \nL 64.61196 104.229677 \nL 66.755366 102.104164 \nL 68.898772 102.104164 \nL 71.042177 99.978651 \nL 75.328989 99.978651 \nL 75.328989 97.853138 \nL 77.472395 97.853138 \nL 77.472395 95.727625 \nL 77.472395 87.225572 \nL 81.759207 87.225572 \nL 81.759207 82.974545 \nL 83.902613 82.974545 \nL 83.902613 78.723519 \nL 88.189425 78.723519 \nL 101.04986 78.723519 \nL 101.04986 74.472493 \nL 107.480078 74.472493 \nL 107.480078 72.346979 \nL 109.623484 72.346979 \nL 109.623484 68.095953 \nL 111.766889 68.095953 \nL 111.766889 59.5939 \nL 113.910295 57.468387 \nL 113.910295 55.342874 \nL 124.627325 55.342874 \nL 124.627325 53.217361 \nL 126.770731 53.217361 \nL 126.770731 51.091848 \nL 133.200948 51.091848 \nL 137.48776 51.091848 \nL 152.491601 51.091848 \nL 152.491601 48.966334 \nL 161.065225 48.966334 \nL 173.92566 48.966334 \nL 178.212472 48.966334 \nL 182.499284 46.840821 \nL 186.786096 46.840821 \nL 186.786096 44.715308 \nL 188.929501 44.715308 \nL 188.929501 42.589795 \nL 191.072907 42.589795 \nL 195.359719 42.589795 \nL 197.503125 42.589795 \nL 201.789937 42.589795 \nL 201.789937 40.464282 \nL 203.933343 40.464282 \nL 203.933343 38.338768 \nL 214.650372 38.338768 \nL 216.793778 38.338768 \nL 221.08059 38.338768 \nL 225.367402 38.338768 \nL 231.797619 36.213255 \nL 236.084431 36.213255 \nL 240.371243 36.213255 \nL 240.371243 34.087742 \nL 246.80146 34.087742 \nL 251.088272 34.087742 \nL 251.088272 31.962229 \nL 263.948708 31.962229 \nL 266.092113 31.962229 \nL 266.092113 27.711202 \nL 270.378925 25.585689 \nL 272.522331 25.585689 \nL 272.522331 23.460176 \nL 274.665737 23.460176 \nL 274.665737 21.334663 \nL 278.952549 21.334663 \nL 283.239361 21.334663 \nL 287.526172 19.20915 \nL 291.812984 19.20915 \nL 293.95639 19.20915 \nL 298.243202 19.20915 \nL 300.386608 19.20915 \nL 304.673419 19.20915 \nL 317.533855 19.20915 \nL 321.820667 17.083636 \nL 334.681102 17.083636 \nL 338.967914 17.083636 \nL 349.684943 17.083636 \n\" style=\"fill:none;stroke:#1f77b4;stroke-linecap:square;stroke-width:1.5;\"/>\n   </g>\n   <g id=\"line2d_14\">\n    <path clip-path=\"url(#pc12eb84b3a)\" d=\"M 45.321307 214.756364 \nL 349.684943 17.083636 \n\" style=\"fill:none;stroke:#000000;stroke-dasharray:5.55,2.4;stroke-dashoffset:0;stroke-width:1.5;\"/>\n   </g>\n   <g id=\"patch_3\">\n    <path d=\"M 30.103125 224.64 \nL 30.103125 7.2 \n\" style=\"fill:none;stroke:#000000;stroke-linecap:square;stroke-linejoin:miter;stroke-width:0.8;\"/>\n   </g>\n   <g id=\"patch_4\">\n    <path d=\"M 364.903125 224.64 \nL 364.903125 7.2 \n\" style=\"fill:none;stroke:#000000;stroke-linecap:square;stroke-linejoin:miter;stroke-width:0.8;\"/>\n   </g>\n   <g id=\"patch_5\">\n    <path d=\"M 30.103125 224.64 \nL 364.903125 224.64 \n\" style=\"fill:none;stroke:#000000;stroke-linecap:square;stroke-linejoin:miter;stroke-width:0.8;\"/>\n   </g>\n   <g id=\"patch_6\">\n    <path d=\"M 30.103125 7.2 \nL 364.903125 7.2 \n\" style=\"fill:none;stroke:#000000;stroke-linecap:square;stroke-linejoin:miter;stroke-width:0.8;\"/>\n   </g>\n  </g>\n </g>\n <defs>\n  <clipPath id=\"pc12eb84b3a\">\n   <rect height=\"217.44\" width=\"334.8\" x=\"30.103125\" y=\"7.2\"/>\n  </clipPath>\n </defs>\n</svg>\n",
      "text/plain": [
       "<Figure size 432x288 with 1 Axes>"
      ]
     },
     "metadata": {
      "needs_background": "light"
     },
     "output_type": "display_data"
    },
    {
     "name": "stdout",
     "output_type": "stream",
     "text": [
      "AUC:  0.8344691806754506\n"
     ]
    }
   ],
   "source": [
    "from sklearn.metrics import roc_curve, auc\n",
    "import matplotlib.pyplot as plt\n",
    "\n",
    "fpr, tpr, _ = roc_curve(test_y, fitted_p)\n",
    "plt.plot(fpr, tpr)\n",
    "plt.plot([0, 1], [0, 1], 'k--')\n",
    "plt.show()\n",
    "\n",
    "print('AUC: ', auc(fpr, tpr))\n"
   ]
  },
  {
   "cell_type": "markdown",
   "metadata": {},
   "source": [
    "## Extension: Multi-class Classification\n",
    "\n",
    "### Multinomial logistic regression\n",
    "\n",
    "When the number of classes is more than 2, we call it multi-class classification task. Logistic regression can be extended to model several classes of events such as determining whether an image contains a cat, dog, lion, etc. Each object being detected in the image would be assigned a probability between 0 and 1, with a sum of one. The extended model is multinomial logistic regression.\n",
    "\n",
    "To arrive at the multinomial logistic model, one can imagine, for $K$ possible classes, running $K−1$ independent logistic regression models, in which one class is chosen as a \"pivot\" and then the other $K−1$ classes are separately regressed against the pivot outcome. This would proceed as follows, if class K (the last outcome) is chosen as the pivot:\n",
    "\n",
    "$$\n",
    "\\begin{aligned}\n",
    "    \\ln (\\mathbb{P}(y=1)/\\mathbb{P}(y=K)) = x^T\\beta^{(1)},\\\\\n",
    "    \\dots\\ \\dots\\\\\n",
    "    \\ln (\\mathbb{P}(y=K-1)/\\mathbb{P}(y=K)) = x^T\\beta^{(K-1)}.\n",
    "\\end{aligned}\n",
    "$$\n",
    "\n",
    "Then, the probability to choose the j-th class can be easily derived to be:\n",
    "\n",
    "$$\n",
    "    \\mathbb{P}(y=j) = \\frac{\\exp(x^T\\beta^{(j)})}{1+\\sum_{k=1}^{K-1} \\exp(x^T\\beta^{(k)})},\n",
    "$$\n",
    "\n",
    "and subsequently, we would predict the $j^*$-th class if the $j^*=\\arg\\max_j \\mathbb{P}(y=j)$. Notice that, for $K$ possible classes case, there are $p\\times(K−1)$ unknown parameters: $\\beta^{(1)},\\dots,\\beta^{(K−1)}$ to be estimated. Because the number of parameters increase as $K$, it is even more urge to constrain the model complexity. And the best subset selection for multinomial logistic regression aims to maximize the log-likelihood function and control the model complexity by restricting $B=(\\beta^{(1)},\\dots,\\beta^{(K−1)})$ with $||B||_{0,2}\\leq s$ where $||B||_{0,2}=\\sum_{i=1}^p I(B_{i\\cdot}=0)$, $B_{i\\cdot}$ is the $i$-th row of coefficient matrix $B$ and $0\\in R^{K-1}$ is an all zero vector. In other words, each row of $B$ would be either all zero or all non-zero.\n",
    "\n",
    "### Simulated Data Example\n",
    "\n",
    "We shall conduct Multinomial logistic regression on an artificial dataset for demonstration. The `make_multivariate_glm_data()` provides a simple way to generate suitable for this task. \n",
    "\n",
    "The assumption behind is the response vector following a multinomial distribution. The artifical dataset contain 100 observations and 20 predictors but only five predictors have influence on the three possible classes."
   ]
  },
  {
   "cell_type": "code",
   "execution_count": 148,
   "metadata": {},
   "outputs": [
    {
     "name": "stdout",
     "output_type": "stream",
     "text": [
      "[[ 0.          0.          0.        ]\n",
      " [ 0.          0.          0.        ]\n",
      " [ 1.09734231  4.03598978  0.        ]\n",
      " [ 0.          0.          0.        ]\n",
      " [ 0.          0.          0.        ]\n",
      " [ 9.91227834 -3.47987303  0.        ]\n",
      " [ 0.          0.          0.        ]\n",
      " [ 0.          0.          0.        ]\n",
      " [ 0.          0.          0.        ]\n",
      " [ 0.          0.          0.        ]\n",
      " [ 8.93282229  8.93249765  0.        ]\n",
      " [-4.03426165 -2.70336848  0.        ]\n",
      " [ 0.          0.          0.        ]\n",
      " [ 0.          0.          0.        ]\n",
      " [ 0.          0.          0.        ]\n",
      " [ 0.          0.          0.        ]\n",
      " [ 0.          0.          0.        ]\n",
      " [ 0.          0.          0.        ]\n",
      " [-5.53475149 -2.65928982  0.        ]\n",
      " [ 0.          0.          0.        ]]\n",
      "real variables' index:\n",
      " {2, 5, 10, 11, 18}\n"
     ]
    }
   ],
   "source": [
    "from abess.datasets import make_multivariate_glm_data\n",
    "n = 100 # sample size\n",
    "p = 20  # all predictors\n",
    "k = 5   # real predictors\n",
    "M = 3   # number of classes\n",
    "\n",
    "np.random.seed(0)\n",
    "dt =  make_multivariate_glm_data(n = n, p = p, k = k, family = \"multinomial\", M = M)\n",
    "print(dt.coef_)\n",
    "print('real variables\\' index:\\n', set(np.nonzero(dt.coef_)[0]))\n"
   ]
  },
  {
   "cell_type": "markdown",
   "metadata": {},
   "source": [
    "To carry out best subset selection for multinomial logistic regression, we can call the `MultinomialRegression()`. Here is an example."
   ]
  },
  {
   "cell_type": "code",
   "execution_count": 149,
   "metadata": {},
   "outputs": [
    {
     "data": {
      "text/plain": [
       "abessMultinomial(support_size=range(0, 6))"
      ]
     },
     "execution_count": 149,
     "metadata": {},
     "output_type": "execute_result"
    }
   ],
   "source": [
    "from abess.linear import MultinomialRegression\n",
    "s = 5\n",
    "model = MultinomialRegression(support_size = range(0, s + 1))\n",
    "model.fit(dt.x, dt.y)"
   ]
  },
  {
   "cell_type": "markdown",
   "metadata": {},
   "source": [
    "Its use is quite similar to `LogisticRegression`. We can get the coefficients to recognize \"in-model\" variables."
   ]
  },
  {
   "cell_type": "code",
   "execution_count": 150,
   "metadata": {},
   "outputs": [
    {
     "name": "stdout",
     "output_type": "stream",
     "text": [
      "intercept:\n",
      " [21.42326269 20.715469   22.26781623]\n",
      "coefficients:\n",
      " [[  0.           0.           0.        ]\n",
      " [  0.           0.           0.        ]\n",
      " [ -3.48154954   5.76904948  -3.2394208 ]\n",
      " [  0.           0.           0.        ]\n",
      " [  0.           0.           0.        ]\n",
      " [ 23.04122134 -14.80633656  -7.28160058]\n",
      " [  0.           0.           0.        ]\n",
      " [  0.           0.           0.        ]\n",
      " [  0.           0.           0.        ]\n",
      " [  0.           0.           0.        ]\n",
      " [ 13.76886614  11.64612255 -11.12983172]\n",
      " [ -3.73875599   0.62171172   3.80279815]\n",
      " [  0.           0.           0.        ]\n",
      " [  0.           0.           0.        ]\n",
      " [  0.           0.           0.        ]\n",
      " [  0.           0.           0.        ]\n",
      " [  0.           0.           0.        ]\n",
      " [  0.           0.           0.        ]\n",
      " [ -9.19066393  -2.17011988  11.44410734]\n",
      " [  0.           0.           0.        ]]\n"
     ]
    }
   ],
   "source": [
    "print('intercept:\\n', model.intercept_)\n",
    "print('coefficients:\\n', model.coef_)"
   ]
  },
  {
   "cell_type": "markdown",
   "metadata": {},
   "source": [
    "So those variables used in model can be recognized and we ca find that they are the same as the data's \"real\" coefficients we generate."
   ]
  },
  {
   "cell_type": "code",
   "execution_count": 151,
   "metadata": {},
   "outputs": [
    {
     "name": "stdout",
     "output_type": "stream",
     "text": [
      "used variables' index:\n",
      " {2, 5, 10, 11, 18}\n"
     ]
    }
   ],
   "source": [
    "print('used variables\\' index:\\n', set(np.nonzero(model.coef_)[0]))"
   ]
  },
  {
   "cell_type": "markdown",
   "metadata": {},
   "source": [
    "## R tutorial\n",
    "\n",
    "For R tutorial, please view [https://abess-team.github.io/abess/articles/v03-classification.html](https://abess-team.github.io/abess/articles/v03-classification.html)."
   ]
  }
 ],
 "metadata": {
  "interpreter": {
   "hash": "e7370f93d1d0cde622a1f8e1c04877d8463912d04d973331ad4851f04de6915a"
  },
  "kernelspec": {
   "display_name": "Python 3.9.5 64-bit",
   "name": "python3"
  },
  "language_info": {
   "codemirror_mode": {
    "name": "ipython",
    "version": 3
   },
   "file_extension": ".py",
   "mimetype": "text/x-python",
   "name": "python",
   "nbconvert_exporter": "python",
   "pygments_lexer": "ipython3",
   "version": "3.10.1"
  },
  "orig_nbformat": 4
 },
 "nbformat": 4,
 "nbformat_minor": 2
}
