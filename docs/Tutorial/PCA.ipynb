{
 "cells": [
  {
   "cell_type": "markdown",
   "metadata": {},
   "source": [
    "# Principal Component Analysis\n",
    "This notebook introduces what is adaptive best subset selection principal component analysis (SparsePCA) and uses a real data example to show how to use it. \n",
    "\n",
    "## PCA\n",
    "Principal component analysis (PCA) is an important method in the field of data science, which can reduce the dimension of data and simplify our model. It actually solve an optimization problem like:\n",
    "\n",
    "$$\n",
    "    \\max_{v} v^{\\top}\\Sigma v,\\qquad s.t.\\quad v^Tv=1.\n",
    "$$\n",
    "\n",
    "where $\\Sigma = X^TX / (n-1)$ and $X$ is the **centered** sample matrix. We also denote that $X$ is a $n\\times p$ matrix, where each row is an observation and each column is a variables.\n",
    "\n",
    "Then, before further analysis, we can project $X$ to $v$ (thus dimensional reduction), without losing too much information.\n",
    "\n",
    "However, consider that: \n",
    "\n",
    "- The PC is a linear combination of all primary variables ($Xv$), but sometimes we may tend to use less variables for clearer interpretation (and less computational complexity);\n",
    "- It has been proved that if $p/n$ does not converge to $0$, the classical PCA is not consistent, but this would happen in some high-dimensional data analysis.\n",
    "\n",
    "> For example, in gene analysis, the dataset may contain plenty of genes (variables) and we would like to find a subset of them, which can explain most information. Compared with using all genes, this small subset may perform better on interpretation, without loss much information. Then we can focus on these variables in the further analysis.\n",
    "\n",
    "When we trapped by these problems, a classical PCA may not be a best choice, since it use all variables. One of the alternatives is `SparsePCA`, which is able to seek for principal component with a sparsity limitation:\n",
    "\n",
    "$$\n",
    "    \\max_{v} v^{\\top}\\Sigma v,\\qquad s.t.\\quad v^Tv=1,\\ ||v||_0\\leq s.\n",
    "$$\n",
    "\n",
    "where $s$ is a non-negative integer, which indicates how many primary variables are used in principal component. With `SparsePCA`, we can search for the best subset of variables to form principal component and it retains consistency even under $p>>n$. And we make two remarks: \n",
    "\n",
    "> Clearly, if $s$ is equal or larger than the number of primary variables, this sparsity limitation is actually useless, so the problem is equivalent to a classical PCA.\n",
    "\n",
    "> With less variables, the PC must have lower explained variance. However, this decrease is slight if we choose a good $s$ and at this price, we can interpret the PC much better. It is worthy. \n",
    "\n",
    "In the next section, we will show how to form `SparsePCA`."
   ]
  },
  {
   "cell_type": "markdown",
   "metadata": {},
   "source": [
    "## Real Data Example\n",
    "\n",
    "### Communities and Crime Dataset\n",
    "\n",
    "Here we will use real data analysis to show how to form `SparsePCA`. The data we use is from [UCI:\n",
    "Communities and Crime Data Set](https://archive.ics.uci.edu/ml/datasets/Communities+and+Crime) and we pick up its 99 predictive variables as our samples.\n",
    "\n",
    "Firstly, we read the data and pick up those variables we interested."
   ]
  },
  {
   "cell_type": "code",
   "execution_count": 1,
   "metadata": {},
   "outputs": [
    {
     "name": "stdout",
     "output_type": "stream",
     "text": [
      "1994\n",
      "99\n"
     ]
    }
   ],
   "source": [
    "import numpy as np\n",
    "from abess.decomposition import SparsePCA\n",
    "\n",
    "X = np.genfromtxt('communities.data', delimiter = ',') \n",
    "X = X[:, 5:127]                         # numeric predictiors\n",
    "X = X[:, ~np.isnan(X).any(axis = 0)]    # drop variables with nan\n",
    "\n",
    "n, p = X.shape\n",
    "print(n)\n",
    "print(p)\n"
   ]
  },
  {
   "cell_type": "markdown",
   "metadata": {},
   "source": [
    "### Model fitting\n",
    "\n",
    "To build an SparsePCA model, we need to give the target sparisty to its `support_size` argument. Our program supports adaptively finding a best sparisty in a given range. \n",
    "\n",
    "#### Fixed sparsity\n",
    "\n",
    "If we only focus on one fixed sparsity, you can simply give a single integer to fit on this situation. And then the fitted sparse principal component is stored in `SparsePCA.coef_`:"
   ]
  },
  {
   "cell_type": "code",
   "execution_count": 91,
   "metadata": {},
   "outputs": [],
   "source": [
    "model = SparsePCA(support_size = 20)"
   ]
  },
  {
   "cell_type": "markdown",
   "metadata": {},
   "source": [
    "Give either $X$ or $\\Sigma$ to `model.fit()` and the fitting process will start. The argument `is_normal = False` here means that the program will not normalize $X$. Note that if both $X$ and $Sigma$ are given, the program prefer to use $X$."
   ]
  },
  {
   "cell_type": "code",
   "execution_count": 92,
   "metadata": {},
   "outputs": [
    {
     "data": {
      "text/plain": [
       "abessPCA(always_select=[], support_size=20)"
      ]
     },
     "execution_count": 92,
     "metadata": {},
     "output_type": "execute_result"
    }
   ],
   "source": [
    "model.fit(X = X, is_normal = False)\n",
    "# model.fit(Sigma = np.cov(X.T))"
   ]
  },
  {
   "cell_type": "markdown",
   "metadata": {},
   "source": [
    "After fitting, `model.coef_` returns the sparse principal component and its non-zero positions correspond to variables used. "
   ]
  },
  {
   "cell_type": "code",
   "execution_count": 93,
   "metadata": {},
   "outputs": [
    {
     "name": "stdout",
     "output_type": "stream",
     "text": [
      "sparsity:  20\n",
      "non-zero position: \n",
      " [50 51 52 53 54 55 58 61 62 63 64 65 66 67 68 69 70 71 72 73]\n",
      "[[ 0.          0.          0.          0.          0.          0.\n",
      "   0.          0.          0.          0.          0.          0.\n",
      "   0.          0.          0.          0.          0.          0.\n",
      "   0.          0.          0.          0.          0.          0.\n",
      "   0.          0.          0.          0.          0.          0.\n",
      "   0.          0.          0.          0.          0.          0.\n",
      "   0.          0.          0.          0.          0.          0.\n",
      "   0.          0.          0.          0.          0.          0.\n",
      "   0.          0.         -0.07264251 -0.24900138 -0.27025249 -0.27052337\n",
      "  -0.2726587  -0.34953475  0.          0.         -0.34189057  0.\n",
      "   0.         -0.23485295 -0.20216875 -0.05878106 -0.04165533 -0.16639532\n",
      "   0.26148901 -0.308802   -0.19813928  0.27084506 -0.07053112  0.04490016\n",
      "   0.22881218 -0.0921555   0.          0.          0.          0.\n",
      "   0.          0.          0.          0.          0.          0.\n",
      "   0.          0.          0.          0.          0.          0.\n",
      "   0.          0.          0.          0.          0.          0.\n",
      "   0.          0.          0.        ]]\n"
     ]
    }
   ],
   "source": [
    "temp = np.nonzero(model.coef_)[0]\n",
    "print('sparsity: ', temp.size)\n",
    "print('non-zero position: \\n', temp)\n",
    "print(model.coef_.T)"
   ]
  },
  {
   "cell_type": "markdown",
   "metadata": {},
   "source": [
    "#### Adaptive sparsity\n",
    "\n",
    "What's more, **abess** also support a range of sparsity and adaptively choose the best-explain one. However, usually a higher sparsity level would lead to better explaination.\n",
    "\n",
    "Now, you need to build an $s_{max} \\times 1$ binomial matrix, where $s_{max}$ indicates the max target sparsity and each row indicates one sparsity level (i.e. start from $1$, until $s_{max}$). For each position with $1$, **abess** would try to fit the model under that sparsity and finally give the best one."
   ]
  },
  {
   "cell_type": "code",
   "execution_count": 103,
   "metadata": {},
   "outputs": [
    {
     "name": "stdout",
     "output_type": "stream",
     "text": [
      "chosen sparsity:  20\n",
      "non-zero position: \n",
      " [11 12 17 19 20 21 27 29 30 35 36 44 76 78 79 80 81 82 83 84]\n",
      "[[ 0.          0.          0.          0.          0.          0.\n",
      "   0.          0.          0.          0.          0.         -0.27618663\n",
      "  -0.23703262  0.          0.          0.          0.          0.18384733\n",
      "   0.         -0.2275236  -0.21204903 -0.19753942  0.          0.\n",
      "   0.          0.          0.          0.21358573  0.          0.18270928\n",
      "  -0.18928695  0.          0.          0.          0.          0.1760962\n",
      "  -0.17481418  0.          0.          0.          0.          0.\n",
      "   0.          0.         -0.18581084  0.          0.          0.\n",
      "   0.          0.          0.          0.          0.          0.\n",
      "   0.          0.          0.          0.          0.          0.\n",
      "   0.          0.          0.          0.          0.          0.\n",
      "   0.          0.          0.          0.          0.          0.\n",
      "   0.          0.          0.          0.          0.23804122  0.\n",
      "  -0.2415995  -0.24785373 -0.24947283 -0.23938391 -0.23605314 -0.28015859\n",
      "  -0.23841083  0.          0.          0.          0.          0.\n",
      "   0.          0.          0.          0.          0.          0.\n",
      "   0.          0.          0.        ]]\n"
     ]
    }
   ],
   "source": [
    "# fit sparsity from 1 to 20\n",
    "support_size = np.ones((20, 1))\n",
    "# build model\n",
    "model = SparsePCA(support_size = support_size)\n",
    "model.fit(X, is_normal = False)  \n",
    "# results\n",
    "temp = np.nonzero(model.coef_)[0]\n",
    "print('chosen sparsity: ', temp.size)\n",
    "print('non-zero position: \\n', temp)\n",
    "print(model.coef_.T)"
   ]
  },
  {
   "cell_type": "markdown",
   "metadata": {},
   "source": [
    "*Because of warm-start, the results here may not be the same as fitted sparsity.*\n",
    "\n",
    "Then, the explained variance can be computed by:"
   ]
  },
  {
   "cell_type": "code",
   "execution_count": 104,
   "metadata": {},
   "outputs": [
    {
     "name": "stdout",
     "output_type": "stream",
     "text": [
      "explained ratio:  [[0.16920803]]\n"
     ]
    }
   ],
   "source": [
    "Xc = X - X.mean(axis = 0)\n",
    "Xv = Xc @ model.coef_\n",
    "explained = Xv.T @ Xv                   # explained variance (information)\n",
    "total = sum(np.diag(Xc.T @ Xc))         # total variance (information)\n",
    "print( 'explained ratio: ', explained / total )"
   ]
  },
  {
   "cell_type": "markdown",
   "metadata": {},
   "source": [
    "### More on the results\n",
    "\n",
    "We can give different target sparsity (change `s_begin` and `s_end`) to get different sparse loading. Interestingly, we can seek for a smaller sparsity which can explain most of the variance.\n",
    "\n",
    "In this example, if we try sparsities from $0$ to $p$, and calculate the ratio of explained variance:"
   ]
  },
  {
   "cell_type": "code",
   "execution_count": 128,
   "metadata": {},
   "outputs": [
    {
     "name": "stdout",
     "output_type": "stream",
     "text": [
      "80%+ :  [31 34 37 41 44 47 51 54 57 61 64 67 71 74 77 81 84 87 91 94 98]\n",
      "90%+ :  [41 44 47 51 54 57 61 64 67 71 74 77 81 84 87 91 94 98]\n"
     ]
    }
   ],
   "source": [
    "num = 30\n",
    "i = 0\n",
    "sparsity = np.linspace(1, p - 1, num, dtype='int')\n",
    "explain = np.zeros(num)\n",
    "Xc = X - X.mean(axis = 0)\n",
    "for s in sparsity:\n",
    "    model = SparsePCA(\n",
    "        support_size = np.ones((s, 1)),\n",
    "        exchange_num = int(s),  \n",
    "        max_iter = 50\n",
    "    )\n",
    "    model.fit(X, is_normal = False)\n",
    "    Xv = Xc @ model.coef_\n",
    "    explain[i] = Xv.T @ Xv\n",
    "    i += 1\n",
    "\n",
    "print('80%+ : ', sparsity[explain > 0.8 * explain[num-1]])\n",
    "print('90%+ : ', sparsity[explain > 0.9 * explain[num-1]])\n"
   ]
  },
  {
   "cell_type": "markdown",
   "metadata": {},
   "source": [
    "If we denote the explained ratio from all 99 variables as 100%, the curve indicates that at least 31 variables can reach 80% (blue dashed line) and 41 variables can reach 90% (red dashed line)."
   ]
  },
  {
   "cell_type": "code",
   "execution_count": 133,
   "metadata": {},
   "outputs": [
    {
     "data": {
      "image/png": "[encoded data removed]",
      "text/plain": [
       "<Figure size 432x288 with 1 Axes>"
      ]
     },
     "metadata": {
      "needs_background": "light"
     },
     "output_type": "display_data"
    }
   ],
   "source": [
    "import matplotlib.pyplot as plt\n",
    "plt.plot(sparsity, explain)\n",
    "plt.xlabel('Sparsity')\n",
    "plt.ylabel('Explained variance')\n",
    "\n",
    "ind = np.where(explain > 0.8 * explain[num-1])[0][0]\n",
    "plt.plot([0, sparsity[ind]], [explain[ind], explain[ind]], 'b--')\n",
    "plt.plot([sparsity[ind], sparsity[ind]], [0, explain[ind]], 'b--')\n",
    "plt.text(sparsity[ind], 0, str(sparsity[ind]))\n",
    "plt.text(0, explain[ind], '80%')\n",
    "\n",
    "ind = np.where(explain > 0.9 * explain[num-1])[0][0]\n",
    "plt.plot([0, sparsity[ind]], [explain[ind], explain[ind]], 'r--')\n",
    "plt.plot([sparsity[ind], sparsity[ind]], [0, explain[ind]], 'r--')\n",
    "plt.text(sparsity[ind], 0, str(sparsity[ind]))\n",
    "plt.text(0, explain[ind], '90%')\n",
    "\n",
    "plt.plot([0, p], [explain[num-1], explain[num-1]], color='gray', linestyle='--')\n",
    "plt.text(0, explain[num-1],'100%')\n",
    "\n",
    "plt.show()"
   ]
  },
  {
   "cell_type": "markdown",
   "metadata": {},
   "source": [
    "This result shows that using less than half of all 99 variables can be close to perfect. For example, if we choose sparsity 31, the used variables are:"
   ]
  },
  {
   "cell_type": "code",
   "execution_count": 134,
   "metadata": {},
   "outputs": [
    {
     "name": "stdout",
     "output_type": "stream",
     "text": [
      "non-zero position: \n",
      " [50 51 52 53 54 55 56 57 58 59 60 61 62 63 64 65 66 67 68 69 70 71 72 73\n",
      " 74 88 89 90 91 92 93]\n"
     ]
    }
   ],
   "source": [
    "model = SparsePCA(support_size = 31)\n",
    "model.fit(X, is_normal = False)\n",
    "temp = np.nonzero(model.coef_)[0]\n",
    "print('non-zero position: \\n', temp)"
   ]
  },
  {
   "cell_type": "markdown",
   "metadata": {},
   "source": [
    "## Extension: Group PCA\n",
    "\n",
    "### Group PCA\n",
    "\n",
    "Furthermore, in some situation, some variables may need to consider together, that is, they should be \"used\" or \"unused\" for PC at the same time, which we call \"group information\". The optimization problem becomes:\n",
    "\n",
    "$$\n",
    "    \\max_{v} v^{\\top}\\Sigma v,\\qquad s.t.\\quad v^Tv=1,\\ \\sum_{g=1}^G I(||v_g||\\neq 0)\\leq s.\n",
    "$$\n",
    "\n",
    "where we suppose there are $G$ groups, and the $g$-th one correspond to $v_g$, $v = [v_1^{\\top},v_2^{\\top},\\cdots,v_G^{\\top}]^{\\top}$. Then we are interested to find $s$ (or less) important groups.\n",
    "\n",
    "> Group problem is extraordinary important in real data analysis. Still take gene analysis as an example, several sites would be related to one charcter, and it is meaningless to consider each of them alone. \n",
    "\n",
    "`SparsePCA` can also deal with group information. Here we make sure that variables in the same group address close to each other (if not, the data should be sorted first).\n",
    "\n",
    "### Simulated Data Example\n",
    "\n",
    "Suppose that the data above have group information like:\n",
    "\n",
    "- Group 0: {the 1st, 2nd, ..., 6th variable};\n",
    "- Group 1: {the 7th, 8th, ..., 12th variable};\n",
    "- ...\n",
    "- Group 15: {the 91st, 92nd, ..., 96th variable};\n",
    "- Group 16: {the 97th, 98th, 99th variables}.\n",
    "\n",
    "Denote different groups as different number:  "
   ]
  },
  {
   "cell_type": "code",
   "execution_count": 3,
   "metadata": {},
   "outputs": [
    {
     "name": "stdout",
     "output_type": "stream",
     "text": [
      "[ 0  0  0  0  0  0  1  1  1  1  1  1  2  2  2  2  2  2  3  3  3  3  3  3\n",
      "  4  4  4  4  4  4  5  5  5  5  5  5  6  6  6  6  6  6  7  7  7  7  7  7\n",
      "  8  8  8  8  8  8  9  9  9  9  9  9 10 10 10 10 10 10 11 11 11 11 11 11\n",
      " 12 12 12 12 12 12 13 13 13 13 13 13 14 14 14 14 14 14 15 15 15 15 15 15\n",
      " 16 16 16]\n"
     ]
    }
   ],
   "source": [
    "g_info = np.arange(17) \n",
    "g_info = g_info.repeat(6)\n",
    "g_info = g_info[0:99]\n",
    "\n",
    "print(g_info)"
   ]
  },
  {
   "cell_type": "markdown",
   "metadata": {},
   "source": [
    "And fit a group sparse PCA model with additional argument `group=g_info`:"
   ]
  },
  {
   "cell_type": "code",
   "execution_count": 6,
   "metadata": {},
   "outputs": [
    {
     "data": {
      "text/plain": [
       "abessPCA(always_select=[],\n",
       "         support_size=array([[1.],\n",
       "       [1.],\n",
       "       [1.],\n",
       "       [1.],\n",
       "       [1.],\n",
       "       [1.]]))"
      ]
     },
     "execution_count": 6,
     "metadata": {},
     "output_type": "execute_result"
    }
   ],
   "source": [
    "model = SparsePCA(support_size = np.ones((6, 1)))\n",
    "model.fit(X, group = g_info, is_normal = False) "
   ]
  },
  {
   "cell_type": "markdown",
   "metadata": {},
   "source": [
    "The result comes to:"
   ]
  },
  {
   "cell_type": "code",
   "execution_count": 7,
   "metadata": {},
   "outputs": [
    {
     "name": "stdout",
     "output_type": "stream",
     "text": [
      "[[-0.04658786 -0.08867352 -0.04812687  0.20196704 -0.15626888 -0.24420959\n",
      "   0.          0.          0.          0.          0.          0.\n",
      "   0.          0.          0.          0.          0.          0.\n",
      "   0.          0.          0.          0.          0.          0.\n",
      "   0.          0.          0.          0.          0.          0.\n",
      "   0.          0.          0.          0.          0.          0.\n",
      "   0.          0.          0.          0.          0.          0.\n",
      "   0.          0.          0.          0.          0.          0.\n",
      "  -0.03874654 -0.12602642 -0.05981463 -0.11432162 -0.13193075 -0.13909102\n",
      "  -0.14829175 -0.28195208 -0.28747947 -0.28866805 -0.28772941  0.25581611\n",
      "  -0.25726917 -0.19242565 -0.17526315 -0.08740502 -0.06877806 -0.14679731\n",
      "   0.1392863  -0.24410922 -0.10815193  0.14329729 -0.03971005  0.00862702\n",
      "   0.          0.          0.          0.          0.          0.\n",
      "   0.          0.          0.          0.          0.          0.\n",
      "   0.          0.          0.          0.          0.          0.\n",
      "  -0.26329492  0.12107731  0.07789811  0.04291127  0.0606106  -0.00599532\n",
      "   0.          0.          0.        ]]\n",
      "non-zero group: \n",
      " [ 0  8  9 10 11 15]\n",
      "chosen sparsity:  6\n"
     ]
    }
   ],
   "source": [
    "print(model.coef_.T)\n",
    "\n",
    "temp = np.nonzero(model.coef_)[0]\n",
    "temp = np.unique(g_info[temp])\n",
    "\n",
    "print('non-zero group: \\n', temp)\n",
    "print('chosen sparsity: ', temp.size)\n",
    "\n"
   ]
  },
  {
   "cell_type": "markdown",
   "metadata": {},
   "source": [
    "Hence we can focus on variables in Group 0, 8, 9, 10, 11, 15."
   ]
  },
  {
   "cell_type": "markdown",
   "metadata": {},
   "source": [
    "## Extension: Multiple principal components\n",
    "\n",
    "### Multiple principal components\n",
    "\n",
    "In some cases, we may seek for more than one principal components under sparsity. Actually, we can iteratively solve the largest principal component and then mapping the covariance matrix to its orthogonal space:\n",
    "\n",
    "$$\n",
    "\\Sigma' = (1-vv^{\\top})\\Sigma(1-vv^{\\top})\n",
    "$$\n",
    "\n",
    "where $\\Sigma$ is the currect covariance matrix and $v$ is its (sparse) principal component. We map it into $\\Sigma'$, which indicates the orthogonal space of $v$, and then solve the sparse principal component again. \n",
    "\n",
    "By this iteration process, we can acquire multiple principal components and they are sorted from the largest to the smallest.\n",
    "In our program, there is an additional argument `number`, which indicates the number of principal components we need, defaulted by 1.\n",
    "Now the `support_size` is shaped in $s_{max}\\times \\text{number}$ and each column indicates one principal component."
   ]
  },
  {
   "cell_type": "code",
   "execution_count": 8,
   "metadata": {},
   "outputs": [
    {
     "data": {
      "text/plain": [
       "(99, 3)"
      ]
     },
     "execution_count": 26,
     "metadata": {},
     "output_type": "execute_result"
    }
   ],
   "source": [
    "model = SparsePCA(support_size = np.ones((31, 3)))\n",
    "model.fit(X, is_normal = False, number = 3)\n",
    "model.coef_.shape"
   ]
  },
  {
   "cell_type": "markdown",
   "metadata": {},
   "source": [
    "Here, each column of the `model.coef_` is a sparse PC (from the largest to the smallest), for example the second one is that:"
   ]
  },
  {
   "cell_type": "code",
   "execution_count": 10,
   "metadata": {},
   "outputs": [
    {
     "data": {
      "text/plain": [
       "array([ 0.        ,  0.        ,  0.        , -0.19188577,  0.1547922 ,\n",
       "        0.22611506,  0.        ,  0.        ,  0.        ,  0.        ,\n",
       "        0.        ,  0.15955629,  0.        ,  0.        ,  0.        ,\n",
       "        0.        ,  0.        ,  0.        ,  0.        ,  0.        ,\n",
       "        0.        ,  0.        ,  0.        ,  0.        ,  0.        ,\n",
       "        0.        ,  0.        ,  0.        ,  0.        ,  0.        ,\n",
       "        0.        ,  0.        ,  0.        ,  0.        ,  0.        ,\n",
       "        0.        ,  0.        ,  0.        ,  0.10529884,  0.        ,\n",
       "        0.        ,  0.        ,  0.        ,  0.        ,  0.        ,\n",
       "        0.        ,  0.        ,  0.        ,  0.        ,  0.11801854,\n",
       "        0.        ,  0.        ,  0.11530736,  0.12329678,  0.13219045,\n",
       "        0.2743021 ,  0.27986763,  0.28159992,  0.28064823, -0.24725512,\n",
       "        0.24598377,  0.17587584,  0.15715806,  0.        ,  0.        ,\n",
       "        0.12271662, -0.13857677,  0.22541897,  0.11248632, -0.14594444,\n",
       "        0.        ,  0.        , -0.11919811,  0.        ,  0.        ,\n",
       "        0.        ,  0.        ,  0.        ,  0.10114612,  0.10741852,\n",
       "        0.10719497,  0.        ,  0.        ,  0.        ,  0.        ,\n",
       "        0.        ,  0.11422136,  0.        ,  0.        ,  0.        ,\n",
       "        0.26156912, -0.11407968,  0.        ,  0.        ,  0.        ,\n",
       "        0.        ,  0.17021395,  0.11309887,  0.        ])"
      ]
     },
     "execution_count": 27,
     "metadata": {},
     "output_type": "execute_result"
    }
   ],
   "source": [
    "model.coef_[:,1]"
   ]
  },
  {
   "cell_type": "markdown",
   "metadata": {},
   "source": [
    "If we want to compute the explained variance of them, it is also quite easy: "
   ]
  },
  {
   "cell_type": "code",
   "execution_count": 28,
   "metadata": {},
   "outputs": [
    {
     "name": "stdout",
     "output_type": "stream",
     "text": [
      "explained ratio:  0.4539961985579322\n"
     ]
    }
   ],
   "source": [
    "Xv = Xc.dot(model.coef_)\n",
    "explained = np.sum(np.diag(Xv.T.dot(Xv)))\n",
    "print( 'explained ratio: ', explained / total )"
   ]
  },
  {
   "cell_type": "markdown",
   "metadata": {},
   "source": [
    "## R tutorial\n",
    "\n",
    "For R tutorial, please view [https://abess-team.github.io/abess/articles/v08-sPCA.html](https://abess-team.github.io/abess/articles/v08-sPCA.html)."
   ]
  }
 ],
 "metadata": {
  "interpreter": {
   "hash": "e7370f93d1d0cde622a1f8e1c04877d8463912d04d973331ad4851f04de6915a"
  },
  "kernelspec": {
   "display_name": "Python 3.9.5 64-bit",
   "name": "python3"
  },
  "language_info": {
   "codemirror_mode": {
    "name": "ipython",
    "version": 3
   },
   "file_extension": ".py",
   "mimetype": "text/x-python",
   "name": "python",
   "nbconvert_exporter": "python",
   "pygments_lexer": "ipython3",
   "version": "3.10.1"
  },
  "metadata": {
   "interpreter": {
    "hash": "916dbcbb3f70747c44a77c7bcd40155683ae19c65e1c03b4aa3499c5328201f1"
   }
  },
  "orig_nbformat": 2
 },
 "nbformat": 4,
 "nbformat_minor": 2
}
